{
 "cells": [
  {
   "attachments": {},
   "cell_type": "markdown",
   "metadata": {},
   "source": [
    "# Binary Search #\n",
    "> \"Binary Search Hacks\"\n",
    "\n",
    "- toc:true\n",
    "- branch: master\n",
    "- badges: true\n",
    "- comments: true\n",
    "- categories: [jupyter, CollegeBoard Learning]"
   ]
  },
  {
   "cell_type": "code",
   "execution_count": 13,
   "metadata": {
    "vscode": {
     "languageId": "java"
    }
   },
   "outputs": [
    {
     "name": "stdout",
     "output_type": "stream",
     "text": [
      "Index of 45 is 6\n"
     ]
    }
   ],
   "source": [
    "public class Recursive {\n",
    "    public static int binSearch(int[] array, int key, int low, int high) {\n",
    "        // if the lowest integer is greater than the highest integer, return -1 because the array is unsorted\n",
    "        if (low > high) {\n",
    "            return -1;\n",
    "        }\n",
    "        // get the middle index\n",
    "        int middle = (low + high) / 2;\n",
    "        // find what number is at the middle of the array, check if it's equal to the key\n",
    "        if (array[middle] == key) {\n",
    "            return middle;\n",
    "        } \n",
    "        // if the integer at the middle index is less than the key, do binary search again but increase middle by 1\n",
    "        else if (array[middle] < key) {\n",
    "            return binSearch(array, key, middle + 1, high);\n",
    "        } \n",
    "        // if the integer at the middle index is greater than the key, do binary search again but decrease middle by 1\n",
    "        else {\n",
    "            return binSearch(array, key, low, middle - 1);\n",
    "        }\n",
    "    }\n",
    "    // main method to test the binarysearch on the given array for the number 45\n",
    "    public static void main(String[] args) {\n",
    "        int [] array = {1, 3, 5, 7, 9, 23, 45, 67};\n",
    "        // print out what the index is, if -1, the array was not sorted or the key was not found\n",
    "        System.out.println(\"Index of 45 is \" + binSearch(array, 45, 0, array.length - 1));\n",
    "    }\n",
    "}\n",
    "Recursive.main(null);\n"
   ]
  }
 ],
 "metadata": {
  "kernelspec": {
   "display_name": "Java",
   "language": "java",
   "name": "java"
  },
  "language_info": {
   "codemirror_mode": "java",
   "file_extension": ".jshell",
   "mimetype": "text/x-java-source",
   "name": "Java",
   "pygments_lexer": "java",
   "version": "17.0.5+8-Ubuntu-2ubuntu120.04"
  },
  "orig_nbformat": 4
 },
 "nbformat": 4,
 "nbformat_minor": 2
}
