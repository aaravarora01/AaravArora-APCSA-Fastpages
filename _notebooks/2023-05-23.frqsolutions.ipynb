{
 "cells": [
  {
   "cell_type": "markdown",
   "metadata": {},
   "source": [
    "# FRQ Solutions #\n",
    "> \"Solutions\"\n",
    "\n",
    "- toc:true\n",
    "- branch: master\n",
    "- badges: true\n",
    "- comments: true\n",
    "- categories: [jupyter, CollegeBoard Learning]"
   ]
  },
  {
   "cell_type": "code",
   "execution_count": null,
   "metadata": {
    "vscode": {
     "languageId": "java"
    }
   },
   "outputs": [],
   "source": [
    "// Part A\n",
    "\n",
    "public static int getEvenSum(int endInt) {\n",
    "    int sum = 0;\n",
    "    for (int i = 2; i <= endInt; i += 2) {\n",
    "        sum += i;\n",
    "    }\n",
    "    return sum;\n",
    "}\n",
    "\n",
    "// Part B\n",
    "\n",
    "public boolean sumComparison(int endInt, int max) {\n",
    "    int sum = getEvenSum(endInt);\n",
    "    int rand = (Math.random() * max) + 1;\n",
    "    while (rand % 3 != 0 || rand % 4 != 0) {\n",
    "        rand = (Math.random() * max) + 1;\n",
    "    }\n",
    "    if (rand > sum) {\n",
    "        return true;\n",
    "    } \n",
    "    return false;\n",
    "}"
   ]
  },
  {
   "cell_type": "code",
   "execution_count": null,
   "metadata": {
    "vscode": {
     "languageId": "java"
    }
   },
   "outputs": [],
   "source": [
    "// Class FRQ\n",
    "\n",
    "public class Company {\n",
    "    private double downPayment;\n",
    "    private double monthlyCost;\n",
    "    private int months;\n",
    "    private int phoneStock;\n",
    "    public Company(double d, double c, int m, int s) {\n",
    "        downPayment = d;\n",
    "        monthlyCost = c;\n",
    "        months = m;\n",
    "        phoneStock = s;\n",
    "    }\n",
    "\n",
    "    public double getTotalCost() {\n",
    "        return downPayment + monthlyCost * months;\n",
    "    }\n",
    "\n",
    "    public void setPhones(int phones) {\n",
    "        stock -= phones;\n",
    "    }\n",
    "\n",
    "    public int getPhones() {\n",
    "        return stock;\n",
    "    }\n",
    "\n",
    "    public int phoneRefund(int refunded) {\n",
    "        if (refunded > 5) {\n",
    "            downPayment += 10 * refunded;\n",
    "        }\n",
    "        stock += refunded;\n",
    "        return stock;\n",
    "    }\n",
    "\n",
    "}"
   ]
  }
 ],
 "metadata": {
  "language_info": {
   "name": "python"
  },
  "orig_nbformat": 4
 },
 "nbformat": 4,
 "nbformat_minor": 2
}
