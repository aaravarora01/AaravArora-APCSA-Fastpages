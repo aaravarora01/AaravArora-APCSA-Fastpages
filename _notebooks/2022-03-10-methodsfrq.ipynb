{
 "cells": [
  {
   "attachments": {},
   "cell_type": "markdown",
   "metadata": {},
   "source": [
    "# \"Methods and Control Structures FRQ\"\n",
    "> \"Methods and Control Structures FRQ + Notes\"\n",
    "\n",
    "- toc:true\n",
    "- branch: master\n",
    "- badges: true\n",
    "- comments: true\n",
    "- categories: [jupyter, CollegeBoard Learning]"
   ]
  },
  {
   "attachments": {},
   "cell_type": "markdown",
   "metadata": {},
   "source": [
    "A music Web site keeps track of downloaded music. For each download, the site uses a DownloadInfo\n",
    "object to store a song's title and the number of times it has been downloaded. A partial declaration for the\n",
    "DownloadInfo class is shown below.\n",
    "public class DownloadInfo\n",
    "{\n",
    " /** Creates a new instance with the given unique title and sets the\n",
    " * number of times downloaded to 1.\n",
    " * @param title the unique title of the downloaded song\n",
    " */\n",
    " public DownloadInfo(String title)\n",
    " { /* implementation not shown */ }\n",
    " /** @return the title */\n",
    " public String getTitle()\n",
    " { /* implementation not shown */ } \n",
    "\n",
    " /** Increment the number times downloaded by 1 */\n",
    " public void incrementTimesDownloaded()\n",
    " { /* implementation not shown */ }\n",
    " // There may be instance variables, constructors, and methods that are not shown.\n",
    "}"
   ]
  },
  {
   "attachments": {},
   "cell_type": "markdown",
   "metadata": {},
   "source": [
    "(a) Write the MusicDownloads method getDownloadInfo, which returns a reference to a\n",
    "DownloadInfo object if an object with a title that matches the parameter title exists in the\n",
    "downloadList. If no song in downloadList has a title that matches the parameter title, the\n",
    "method returns null.\n",
    " For example, suppose variable webMusicA refers to an instance of MusicDownloads and that the\n",
    "table below represents the contents of downloadList. The list contains three DownloadInfo\n",
    "objects. The object at position 0 has a title of \"Hey Jude\" and a download count of 5. The object at position 1\n",
    "has a title of \"Soul Sister\" and a download count of 3. The object at position 2 has a title of \"Aqualung\" and\n",
    "a download count of 10. "
   ]
  },
  {
   "cell_type": "code",
   "execution_count": null,
   "metadata": {
    "vscode": {
     "languageId": "java"
    }
   },
   "outputs": [],
   "source": [
    "public DownloadInfo getDownloadInfo(String title) {\n",
    "    // for loop for all the different information in the download list\n",
    "    for (DownloadInfo info : downloadList) {\n",
    "        // if the title gotten is equal to the actual gotten, return the information of the music\n",
    "        if (info.getTitle().equals(title)) {\n",
    "            return info;\n",
    "        }\n",
    "    }\n",
    "    // otherwise return null since nothing matched\n",
    "    return null;\n",
    "}"
   ]
  },
  {
   "attachments": {},
   "cell_type": "markdown",
   "metadata": {},
   "source": [
    "Write the MusicDownloads method updateDownloads, which takes a list of song titles as a\n",
    "parameter. For each title in the list, the method updates downloadList, either by incrementing the\n",
    "download count if a DownloadInfo object with the same title exists, or by adding a new\n",
    "DownloadInfo object with that title and a download count of 1 to the end of the list. When a new\n",
    "DownloadInfo object is added to the end of the list, the order of the already existing entries in\n",
    "downloadList remains unchanged.\n",
    " For example, suppose variable webMusicB refers to an instance of MusicDownloads and that the\n",
    "table below represents the contents of the instance variable downloadList"
   ]
  },
  {
   "cell_type": "code",
   "execution_count": null,
   "metadata": {
    "vscode": {
     "languageId": "java"
    }
   },
   "outputs": [],
   "source": [
    "public void updateDownloads(List<String> titles) { // uses an array list data type here\n",
    "    for (String title : titles){\n",
    "        DownloadInfo foundInfo = getDownloadInfo(title);\n",
    "        // if the found info is null from the previous part, add the information from the download info\n",
    "        if (foundInfo == null) {\n",
    "            downloadList.add(new DownloadInfo(title));\n",
    "        }\n",
    "        // otherwise use it from found info\n",
    "        else {\n",
    "            foundInfo.incrementTimesDownloaded();\n",
    "        }\n",
    "    }\n",
    "}"
   ]
  },
  {
   "attachments": {},
   "cell_type": "markdown",
   "metadata": {},
   "source": [
    "The FRQ answer relies on multiple data types, since we are either using strings or array lists to store multiple Strings. We know that we have to use strings since all of the music titles are in letters and we can store all of them in multiple strings. When using for loops, it's easier to iterate through each item in the array list using a for loop to then put into an if loop that can check for the required conditions."
   ]
  }
 ],
 "metadata": {
  "kernelspec": {
   "display_name": "Java",
   "language": "java",
   "name": "java"
  },
  "language_info": {
   "codemirror_mode": "java",
   "file_extension": ".jshell",
   "mimetype": "text/x-java-source",
   "name": "Java",
   "pygments_lexer": "java",
   "version": "17.0.5+8-Ubuntu-2ubuntu120.04"
  },
  "orig_nbformat": 4
 },
 "nbformat": 4,
 "nbformat_minor": 2
}
