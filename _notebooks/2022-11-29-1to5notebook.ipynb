{
 "cells": [
  {
   "cell_type": "markdown",
   "metadata": {},
   "source": [
    "# \"CollegeBoard Units 1 to 5\"\n",
    "> \"Units 1 to 5 Learnings, HW, Notes, Code Snippets\"\n",
    "\n",
    "- toc:true\n",
    "- branch: master\n",
    "- badges: true\n",
    "- comments: true\n",
    "- categories: [jupyter, CollegeBoard Learning]"
   ]
  },
  {
   "cell_type": "markdown",
   "metadata": {},
   "source": [
    "Unit 1 - Primitive Types:\n",
    "\n",
    "- Java has simple syntax\n",
    "- Automatic garbage collection\n",
    "- Multithreading\n",
    "- Boolean, int, double, char, float, long, others\n",
    "- Variable Naming: Lettrers/numbers, no special characters\n",
    "- addition, subtraction, division, modulus, multiplication\n",
    "- Compound operators\n",
    "- Both must be attached to a variable\n",
    "- Can cast variables to change the type --> for example int to string\n",
    "- Also works for division: change from double to int type\n",
    "- In general classes with primitive types are known as wrapper classes\n",
    "\n",
    "Homework: \n",
    "https://aaravarora01.github.io/AaravArora-APCSA-Fastpages/jupyter/2022/10/16/primitives.html"
   ]
  },
  {
   "cell_type": "code",
   "execution_count": null,
   "metadata": {
    "vscode": {
     "languageId": "java"
    }
   },
   "outputs": [],
   "source": [
    "// Casting for Division\n",
    "double answer = num / (double) denom;\n",
    "\n",
    "// We could use int instead if we wanted to round"
   ]
  },
  {
   "cell_type": "code",
   "execution_count": 3,
   "metadata": {
    "vscode": {
     "languageId": "java"
    }
   },
   "outputs": [
    {
     "name": "stdout",
     "output_type": "stream",
     "text": [
      "Computer Science\n"
     ]
    }
   ],
   "source": [
    "// Example of Concentation (can join two strings):\n",
    "\n",
    "class Concentation {\n",
    "    public static void main( String args[] ) {\n",
    "        String one = \"Computer \"; \n",
    "        String two = \"Science\";\n",
    "\n",
    "        one += two;\n",
    "        System.out.println(one);        \n",
    "    }\n",
    "}\n",
    "Concentation.main(null);"
   ]
  },
  {
   "cell_type": "code",
   "execution_count": 7,
   "metadata": {
    "vscode": {
     "languageId": "java"
    }
   },
   "outputs": [
    {
     "name": "stdout",
     "output_type": "stream",
     "text": [
      "Your number is 0.4401313549911312\n"
     ]
    }
   ],
   "source": [
    "// Example of Math Class: \n",
    "\n",
    "import java.lang.Math.*;\n",
    "\n",
    "class RandomGenerator { \n",
    "    public static void main(String args[]) { \n",
    "      double rand = Math.random();\n",
    "      System.out.println(\"Your number is \" + rand);\n",
    "    } \n",
    "} \n",
    "RandomGenerator.main(null);\n"
   ]
  },
  {
   "cell_type": "markdown",
   "metadata": {},
   "source": [
    "Unit 2 - Using Objects\n",
    "- Java is an OOP language that compartmentalizes data and functions to bound them together\n",
    "- Classes are templates from which objects are created, objects are instances of classes\n",
    "- Syntax for creating a class is Painter myPainter = new Painter();\n",
    "- Method declaration has 6 components: access modifier, return type, method name, parameter list, exception list, method body\n",
    "- Calling method: methodName(parameter1, parameter2);\n",
    "- Calling object's method: objectReference.methodName(parameter1, parameter2);\n",
    "\n",
    "Homework: https://aaravarora01.github.io/AaravArora-APCSA-Fastpages/jupyter/2022/10/16/primitives.html"
   ]
  },
  {
   "cell_type": "markdown",
   "metadata": {},
   "source": [
    "Unit 3 - Boolean/If Statements\n",
    "- Most FRQs and MC have some if or if else statements\n",
    "- If statement is a conditional where something runs if it's true\n",
    "- If/else is similar to if but it has an option for something to happen if the if statement is not met\n",
    "- If else if allows you to create many options for something to occur\n",
    "- Switch statement adds efficiency and can switch the code using a control flow statement\n",
    "- Boolean expressions return true or false based on the condition\n",
    "- Logic Gates\n",
    "- DeMorgan's Law:(not(A and B)) is equal to (not A or not B)\n",
    "- (not(A or B)) is equal to (not A and not B)\n",
    "- (not(A and B)) is not equal to (not A and not B)\n",
    "\n",
    "Homework: \n",
    "https://aaravarora01.github.io/AaravArora-APCSA-Fastpages/jupyter/2022/10/19/booleanfrqs.html"
   ]
  },
  {
   "cell_type": "code",
   "execution_count": null,
   "metadata": {
    "vscode": {
     "languageId": "java"
    }
   },
   "outputs": [],
   "source": [
    "// Compound boolean expression example:\n",
    "\n",
    "if (x && y) { // has to ensure that two conditions are true\n",
    "    System.out.println(\"true\");\n",
    "}\n",
    "\n",
    "else {\n",
    "    System.out.println(\"false\");\n",
    "}"
   ]
  },
  {
   "cell_type": "markdown",
   "metadata": {},
   "source": [
    "Truth Tables:\n",
    "\n",
    "| X     | Y     | Not X | X && Y | X OR Y |\n",
    "|-------|-------|-------|--------|--------|\n",
    "| False | False | True  | False  | False  |\n",
    "| False | True  | True  | False  | True   |\n",
    "| True  | False | False | False  | True   |\n",
    "| True  | True  | False | True   | True   |"
   ]
  },
  {
   "cell_type": "code",
   "execution_count": 13,
   "metadata": {
    "vscode": {
     "languageId": "java"
    }
   },
   "outputs": [
    {
     "name": "stdout",
     "output_type": "stream",
     "text": [
      "true\n",
      "true\n"
     ]
    }
   ],
   "source": [
    "// Comparing Numbers, Objects, Strings\n",
    "\n",
    "String object1 = \"a\";\n",
    "\n",
    "String object2 = \"a\"; \n",
    "\n",
    "int num1 = 5;\n",
    "\n",
    "int num2 = 5;\n",
    "\n",
    "System.out.println(object1.equals(object2));\n",
    "\n",
    "System.out.println(num1 == num2);"
   ]
  },
  {
   "cell_type": "markdown",
   "metadata": {},
   "source": [
    "Unit 4 - Iteration\n",
    "\n",
    "I presented on this topic. \n",
    "\n",
    "Slideshow Link: https://docs.google.com/presentation/d/12KvdRV2MIBkEkEN29gwN7ypVDmORXlK0ZlQ_KsLiLBE/edit?usp=sharing\n",
    "\n",
    "- For loop: for a certain condition, continue doing something\n",
    "- Enhanced for loop: is similar to for each, applies the condition for each individual part of the for loop\n",
    "- While Loop vs Do While Loop:\n",
    "    - While loop continues on while a condition is true, in other words until something stays true/it changes to not being true\n",
    "    - Do while loops are similar but keep doing something and then check a condition after the task is completed\n",
    "- Nested Loops: Joining two sets by using two separate nested loops\n",
    "    - Contains a loop inside of a loop\n"
   ]
  },
  {
   "cell_type": "code",
   "execution_count": 14,
   "metadata": {
    "vscode": {
     "languageId": "java"
    }
   },
   "outputs": [
    {
     "name": "stdout",
     "output_type": "stream",
     "text": [
      "1\n",
      "2\n",
      "3\n",
      "4\n",
      "5\n"
     ]
    }
   ],
   "source": [
    "// For Loop:\n",
    "int n = 5;\n",
    "for (int i = 1; i <= n; ++i) {\n",
    "    System.out.println(i);\n",
    "}"
   ]
  },
  {
   "cell_type": "code",
   "execution_count": 15,
   "metadata": {
    "vscode": {
     "languageId": "java"
    }
   },
   "outputs": [
    {
     "name": "stdout",
     "output_type": "stream",
     "text": [
      "1\n",
      "2\n",
      "3\n",
      "4\n",
      "5\n"
     ]
    }
   ],
   "source": [
    "// While Loop:\n",
    "\n",
    "int i = 1;\n",
    "while (i <= 5) {\n",
    "    System.out.println(i);\n",
    "    i++;\n",
    "}\n"
   ]
  },
  {
   "cell_type": "markdown",
   "metadata": {},
   "source": [
    "Unit 5 - Writing Classes\n",
    "\n",
    "- Essential aspect of OOP\n",
    "- Models real world objects\n",
    "- Object: state, attributes, behavior (instance of class)\n",
    "- Represented by instance in the program \n",
    "- Class defines abstract data type, object references, instance variables\n",
    "- Methods: behaviors or actions that apply to objects, constructors create the object\n",
    "- Main Method tests the class, intsance variables --> attributes, fields, projects\n",
    "- Constructors are a special method for object instantiation, default constructor, multiple constructors per class\n",
    "- Comments can be added, preconditions for what must be true before code is implemented and postcondition about what should be true after the method is run\n",
    "- Accessor and mutator methods\n",
    "- 3 parts to writing methods: method definition, method signature, method body\n",
    "- Method return types: string, int, boolean, object type, void\n",
    "- Static modifier, this, access modifier\n",
    "- Three levels of scope: class level, method level, block level\n",
    "- Static methods are methods that belong to a class instead of an instance of a class - they can be called without creating an object of the class.\n",
    "- Class methods are methods that rely on the class, not on a specific object instance.\n",
    "- This keyword is used as a reference to an object within a class, examples shown below\n",
    "\n",
    "Homework: https://aaravarora01.github.io/AaravArora-APCSA-Fastpages/jupyter/2022/10/23/writingclasseshw.html"
   ]
  },
  {
   "cell_type": "code",
   "execution_count": 21,
   "metadata": {
    "vscode": {
     "languageId": "java"
    }
   },
   "outputs": [],
   "source": [
    "public class Main {\n",
    "  int test = 5;\n",
    "}\n",
    "\n",
    "// Naming Conventions: Should have a Main Class and classes should be named appropriately and be capitalized to describe what the class is doing for people to easily understand"
   ]
  },
  {
   "cell_type": "code",
   "execution_count": 24,
   "metadata": {
    "vscode": {
     "languageId": "java"
    }
   },
   "outputs": [],
   "source": [
    "// Creating a Constructor:\n",
    "\n",
    "// Class\n",
    "public class Main {\n",
    "    int constructorInt;  // Class attribute\n",
    "  \n",
    "    // Constructor\n",
    "    public Main() {\n",
    "      constructorInt = 1;\n",
    "    }\n",
    "}\n",
    "\n",
    "// No return because object is automatically given to the user when constructor is called"
   ]
  },
  {
   "cell_type": "code",
   "execution_count": null,
   "metadata": {
    "vscode": {
     "languageId": "java"
    }
   },
   "outputs": [],
   "source": [
    "// Accessor Methods:\n",
    "public ResponseEntity<Object> postPerson(@RequestBody final Map<String,Object> map) throws NoSuchAlgorithmException {\n",
    "    //check for existing person\n",
    "    if (repository.findByEmail((String) map.get(\"email\")).isPresent()) {\n",
    "        return new ResponseEntity<>(\"Account with email has been created\", HttpStatus.CREATED);\n",
    "    }\n",
    "\n",
    "    // Shows how we get multiple variables from a map that contains all of the user entered attributes\n",
    "    // Can also use \"this.\"\n",
    "    Person person = new Person();\n",
    "    person.setAge((int) map.get(\"age\"));\n",
    "    person.setName((String) map.get(\"name\"));\n",
    "    person.setEmail((String) map.get(\"email\"));\n",
    "    person.setGender((String) map.get(\"gender\"));\n",
    "    person.setHeightIn((int) map.get(\"heightIn\"));\n",
    "    person.setWeightLbs((int) map.get(\"weightLbs\"));\n",
    "\n",
    "    int activeSteps = (int) ((((double) person.getWeightLbs() / (person.getHeightIn() * person.getHeightIn())) * 703) * 500);\n",
    "    person.setActiveSteps(activeSteps);\n",
    "}\n"
   ]
  },
  {
   "cell_type": "code",
   "execution_count": null,
   "metadata": {
    "vscode": {
     "languageId": "java"
    }
   },
   "outputs": [],
   "source": [
    "// Mutator Methods:\n",
    "// The void return type is meant for when the function returns properly but it does not have a value to return so it returns void back. It is shown below along with all the setters\n",
    "\n",
    "// Access Modifiers: The public controls whether or not the properties and methods can be accessed outside of this class, which is true for this class since it is public. Other types include private which are not accessible and protected which can only be accessed within its own package and by a subclass.\n",
    "public ResponseEntity<Object> postPerson(@RequestBody final Map<String,Object> map) throws NoSuchAlgorithmException {\n",
    "    //check for existing person\n",
    "    if (repository.findByEmail((String) map.get(\"email\")).isPresent()) {\n",
    "        return new ResponseEntity<>(\"Account with email has been created\", HttpStatus.CREATED);\n",
    "    }\n",
    "\n",
    "\n",
    "    // Sets all the attributes\n",
    "    Person person = new Person();\n",
    "    person.setAge((int) map.get(\"age\"));\n",
    "    person.setName((String) map.get(\"name\"));\n",
    "    person.setEmail((String) map.get(\"email\"));\n",
    "    person.setGender((String) map.get(\"gender\"));\n",
    "    person.setHeightIn((int) map.get(\"heightIn\"));\n",
    "    person.setWeightLbs((int) map.get(\"weightLbs\"));\n",
    "\n",
    "    int activeSteps = (int) ((((double) person.getWeightLbs() / (person.getHeightIn() * person.getHeightIn())) * 703) * 500);\n",
    "    person.setActiveSteps(activeSteps);\n",
    "}\n"
   ]
  },
  {
   "cell_type": "code",
   "execution_count": null,
   "metadata": {
    "vscode": {
     "languageId": "java"
    }
   },
   "outputs": [],
   "source": [
    "// Main Method is shown below --> it is used to test a class and is called when a class is run\n",
    "// In this example there is an all argument constructor and another example where it is separated for all the different attributes\n",
    "\n",
    "public static void main(String[] args) {\n",
    "    Day day = new Day();\n",
    "    day.setCalories(100);\n",
    "    day.setDay(10);\n",
    "    day.setDistanceMiles(1.1);\n",
    "    day.setId(null);\n",
    "    day.setMonth(5);\n",
    "    day.setSteps(10000);\n",
    "    day.setYear(2022);\n",
    "    System.out.println(day);\n",
    "\n",
    "    Day day2 = new Day(null, 2022, 5, 10, 10000, 100, 1.1);\n",
    "    System.out.println(day2);\n",
    "  }"
   ]
  }
 ],
 "metadata": {
  "kernelspec": {
   "display_name": "Java",
   "language": "java",
   "name": "java"
  },
  "language_info": {
   "codemirror_mode": "java",
   "file_extension": ".jshell",
   "mimetype": "text/x-java-source",
   "name": "Java",
   "pygments_lexer": "java",
   "version": "17.0.5+8-Ubuntu-2ubuntu120.04"
  },
  "orig_nbformat": 4
 },
 "nbformat": 4,
 "nbformat_minor": 2
}
