{
 "cells": [
  {
   "cell_type": "markdown",
   "metadata": {},
   "source": [
    "# \"2019 FRQ Question No. 1\"\n",
    "> \"My Solution with Comments\"\n",
    "\n",
    "- toc:true\n",
    "- branch: master\n",
    "- badges: true\n",
    "- comments: true\n",
    "- categories: [jupyter, pbl]"
   ]
  },
  {
   "cell_type": "markdown",
   "metadata": {},
   "source": [
    "2019 AP® Computer Science A Free-Response Question #1"
   ]
  },
  {
   "cell_type": "code",
   "execution_count": null,
   "metadata": {
    "vscode": {
     "languageId": "java"
    }
   },
   "outputs": [],
   "source": [
    "public class APCalendar\n",
    "{\n",
    "    /** Returns true if year is a leap year and false otherwise. */\n",
    "    private static boolean isLeapYear(int year)\n",
    "    { /* implementation not shown */ }\n",
    "    /** Returns the number of leap years between year1 and year2, inclusive.\n",
    "     * Precondition: 0 <= year1 <= year2\n",
    "     */\n",
    "    public static int numberOfLeapYears(int year1, int year2)\n",
    "    { /* to be implemented in part (a) */ }\n",
    "    /** Returns the value representing the day of the week for the first day of year,\n",
    "     * where 0 denotes Sunday, 1 denotes Monday, ..., and 6 denotes Saturday.\n",
    "     */\n",
    "    private static int firstDayOfYear(int year)\n",
    "    { /* implementation not shown */ }\n",
    "    /** Returns n, where month, day, and year specify the nth day of the year.\n",
    "     * Returns 1 for January 1 (month = 1, day = 1) of any year.\n",
    "     * Precondition: The date represented by month, day, year is a valid date.\n",
    "     */\n",
    "    private static int dayOfYear(int month, int day, int year)\n",
    "    { /* implementation not shown */ }\n",
    "    /** Returns the value representing the day of the week for the given date\n",
    "     * (month, day, year), where 0 denotes Sunday, 1 denotes Monday, ...,\n",
    "     * and 6 denotes Saturday.\n",
    "     * Precondition: The date represented by month, day, year is a valid date.\n",
    "     */\n",
    "    public static int dayOfWeek(int month, int day, int year)\n",
    "    { /* to be implemented in part (b) */ }\n",
    "    // There may be instance variables, constructors, and other methods not shown.\n",
    "}"
   ]
  },
  {
   "cell_type": "markdown",
   "metadata": {},
   "source": [
    "Part a\n",
    "\n",
    "Write the static method numberOfLeapYears, which returns the number of leap years between\n",
    "year1 and year2, inclusive.\n",
    "\n",
    "In order to calculate this value, a helper method is provided for you.\n",
    "• isLeapYear(year) returns true if year is a leap year and false otherwise"
   ]
  },
  {
   "cell_type": "code",
   "execution_count": null,
   "metadata": {
    "vscode": {
     "languageId": "java"
    }
   },
   "outputs": [],
   "source": [
    "int year; // defines the variable we're using for each year\n",
    "public static int numberOfLeapYears(int year1, int year2)\n",
    "{\n",
    "    int LeapYearAmount;  // defines the variable we're using to count the leap year amount\n",
    "    for (int year = year1; year <= year2; year++) { // for each year between year 1 and year 2\n",
    "        if (isLeapYear(year)) { // if the year is a leap year, add one to the count\n",
    "            LeapYearAmount+=1;\n",
    "        }\n",
    "    }\n",
    "\n",
    "} "
   ]
  },
  {
   "cell_type": "markdown",
   "metadata": {},
   "source": [
    "Part b\n",
    "\n",
    "Write the static method dayOfWeek, which returns the integer value representing the day of the week for\n",
    "the given date (month, day, year), where 0 denotes Sunday, 1 denotes Monday, ..., and 6\n",
    "denotes Saturday. For example, 2019 began on a Tuesday, and January 5 is the fifth day of 2019. As a result,\n",
    "January 5, 2019, fell on a Saturday, and the method call dayOfWeek(1, 5, 2019)\n",
    "returns 6."
   ]
  },
  {
   "cell_type": "code",
   "execution_count": null,
   "metadata": {
    "vscode": {
     "languageId": "java"
    }
   },
   "outputs": [],
   "source": [
    "public static int dayOfWeek(int month, int day, int year) // calls the method to find the day of the week\n",
    "{\n",
    "    int DayFirst = firstDayOfYear(year); // finds what the first day of the year is for the given year\n",
    "    int DaysAfter = dayOfYear(month, day, year); // finds how many days after the start of the year\n",
    "    int CalculatedDay = (int DayFirst + int DaysAfter - 1) // adds the amount to the first day and subtracts 1\n",
    "    int DayWeekReturn = int CalculatedDay % 7; // changes from a number to a value 0-6 that gives the day of the week\n",
    "    return DayWeekReturn; // returns the day of the week\n",
    "}"
   ]
  }
 ],
 "metadata": {
  "kernelspec": {
   "display_name": "Java",
   "language": "java",
   "name": "java"
  },
  "language_info": {
   "codemirror_mode": "java",
   "file_extension": ".jshell",
   "mimetype": "text/x-java-source",
   "name": "Java",
   "pygments_lexer": "java",
   "version": "11.0.16+8-post-Ubuntu-0ubuntu120.04"
  },
  "orig_nbformat": 4
 },
 "nbformat": 4,
 "nbformat_minor": 2
}
