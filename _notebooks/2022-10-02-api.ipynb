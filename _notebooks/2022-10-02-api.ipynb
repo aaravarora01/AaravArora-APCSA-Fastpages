{
 "cells": [
  {
   "cell_type": "markdown",
   "metadata": {},
   "source": [
    "# \"RapidAPI Notebook\"\n",
    "> \"RapidAPI for Stocks\"\n",
    "\n",
    "- toc:true\n",
    "- branch: master\n",
    "- badges: true\n",
    "- comments: true\n",
    "- categories: [jupyter, pbl]"
   ]
  },
  {
   "cell_type": "markdown",
   "metadata": {},
   "source": [
    "# Mr. M's Code"
   ]
  },
  {
   "cell_type": "code",
   "execution_count": 15,
   "metadata": {
    "vscode": {
     "languageId": "java"
    }
   },
   "outputs": [
    {
     "name": "stdout",
     "output_type": "stream",
     "text": [
      "{\"countries_stat\":[{\"country_name\":\"USA\",\"cases\":\"82,649,779\",\"deaths\":\"1,018,316\",\"region\":\"\",\"total_recovered\":\"80,434,925\",\"new_deaths\":\"0\",\"new_cases\":\"0\",\"serious_critical\":\"1,465\",\"active_cases\":\"1,196,538\",\"total_cases_per_1m_population\":\"247,080\",\"deaths_per_1m_population\":\"3,044\",\"total_tests\":\"1,000,275,726\",\"tests_per_1m_population\":\"2,990,303\"},{\"country_name\":\"India\",\"cases\":\"43,057,545\",\"deaths\":\"522,193\",\"region\":\"\",\"total_recovered\":\"42,519,479\",\"new_deaths\":\"0\",\"new_cases\":\"0\",\"serious_critical\":\"698\",\"active_cases\":\"15,873\",\"total_cases_per_1m_population\":\"30,657\",\"deaths_per_1m_population\":\"372\",\"total_tests\":\"834,717,702\",\"tests_per_1m_population\":\"594,319\"}}\n"
     ]
    }
   ],
   "source": [
    "import java.net.URI;\n",
    "import java.net.http.HttpClient;\n",
    "import java.net.http.HttpRequest;\n",
    "import java.net.http.HttpResponse;\n",
    "\n",
    "//RapidAPI header  https://rapidapi.com/spamakashrajtech/api/corona-virus-world-and-india-data\n",
    "HttpRequest request = HttpRequest.newBuilder()\n",
    "    .uri(URI.create(\"https://corona-virus-world-and-india-data.p.rapidapi.com/api\"))\n",
    "    .header(\"x-rapidapi-key\", \"dec069b877msh0d9d0827664078cp1a18fajsn2afac35ae063\")\n",
    "    .header(\"x-rapidapi-host\", \"corona-virus-world-and-india-data.p.rapidapi.com\")\n",
    "    .method(\"GET\", HttpRequest.BodyPublishers.noBody())\n",
    "    .build();\n",
    "\n",
    "//RapidAPI request and response\n",
    "HttpResponse<String> response = HttpClient.newHttpClient().send(request, HttpResponse.BodyHandlers.ofString());\n",
    "\n",
    "//RapidAPI Body\n",
    "System.out.println(response.body());"
   ]
  },
  {
   "cell_type": "code",
   "execution_count": 16,
   "metadata": {
    "vscode": {
     "languageId": "java"
    }
   },
   "outputs": [
    {
     "name": "stdout",
     "output_type": "stream",
     "text": [
      "\n",
      "\n",
      "hello\n"
     ]
    }
   ],
   "source": [
    "import java.net.URI;\n",
    "import java.net.http.HttpClient;\n",
    "import java.net.http.HttpRequest;\n",
    "import java.net.http.HttpResponse;\n",
    "\n",
    "HttpRequest request = HttpRequest.newBuilder()\n",
    "\t\t.uri(URI.create(\"https://stockexchangeapi.p.rapidapi.com/price/AAPL\"))\n",
    "\t\t.header(\"X-RapidAPI-Key\", \"8a72a745admsh4f6260fd91442a9p17d011jsn6dc5cd0e2605\")\n",
    "\t\t.header(\"X-RapidAPI-Host\", \"stockexchangeapi.p.rapidapi.com\")\n",
    "\t\t.method(\"GET\", HttpRequest.BodyPublishers.noBody())\n",
    "\t\t.build();\n",
    "HttpResponse<String> response = HttpClient.newHttpClient().send(request, HttpResponse.BodyHandlers.ofString());\n",
    "System.out.println(response.body());\n",
    "System.out.println(\"hello\");"
   ]
  },
  "outputs": [
    {
     "name": "stdout",
     "output_type": "stream",
     "text": [
      "{\"annualDividendYield\": \"0.008064727\",\"ask\": \"391.12\",\"avgDailyVol10Days\": \"31473016\",\"avgDailyVol3months\": \"35536849\",\"bid\": \"391.02\",\"company\": \"Apple Inc.\",\"currency\": \"USD\",\"delay\": \"0\",\"exchangeName\": \"NasdaqGS\",\"exchangeTimezone\": \"EDT\",\"fiftyDayAvg\": \"349.5147\",\"high\": \"389.02\",\"low\": \"375.52\",\"previousClose\": \"381.91\",\"price\": \"388.23\",\"symbol\": \"AAPL\",\"symbolName\": \"Apple\",\"volume\": \"40882505\"}"
    ]
    }
   ],
  {
   "cell_type": "code",
   "execution_count": 2,
   "metadata": {
    "vscode": {
     "languageId": "java"
    }
   },
   "outputs": [
    {
     "name": "stdout",
     "output_type": "stream",
     "text": [
      "<!DOCTYPE html>\n",
      "<html>\n",
      "    <head>\n",
      "        <title>Unknown web method .<br>Parameter name: methodName</title>\n",
      "        <meta name=\"viewport\" content=\"width=device-width\" />\n",
      "        <style>\n",
      "         body {font-family:\"Verdana\";font-weight:normal;font-size: .7em;color:black;} \n",
      "         p {font-family:\"Verdana\";font-weight:normal;color:black;margin-top: -5px}\n",
      "         b {font-family:\"Verdana\";font-weight:bold;color:black;margin-top: -5px}\n",
      "         H1 { font-family:\"Verdana\";font-weight:normal;font-size:18pt;color:red }\n",
      "         H2 { font-family:\"Verdana\";font-weight:normal;font-size:14pt;color:maroon }\n",
      "         pre {font-family:\"Consolas\",\"Lucida Console\",Monospace;font-size:11pt;margin:0;padding:0.5em;line-height:14pt}\n",
      "         .marker {font-weight: bold; color: black;text-decoration: none;}\n",
      "         .version {color: gray;}\n",
      "         .error {margin-bottom: 10px;}\n",
      "         .expandable { text-decoration:underline; font-weight:bold; color:navy; cursor:hand; }\n",
      "         @media screen and (max-width: 639px) {\n",
      "          pre { width: 440px; overflow: auto; white-space: pre-wrap; word-wrap: break-word; }\n",
      "         }\n",
      "         @media screen and (max-width: 479px) {\n",
      "          pre { width: 280px; }\n",
      "         }\n",
      "        </style>\n",
      "    </head>\n",
      "\n",
      "    <body bgcolor=\"white\">\n",
      "\n",
      "            <span><H1>Server Error in '/' Application.<hr width=100% size=1 color=silver></H1>\n",
      "\n",
      "            <h2> <i>Unknown web method .<br>Parameter name: methodName</i> </h2></span>\n",
      "\n",
      "            <font face=\"Arial, Helvetica, Geneva, SunSans-Regular, sans-serif \">\n",
      "\n",
      "            <b> Description: </b>An unhandled exception occurred during the execution of the current web request. Please review the stack trace for more information about the error and where it originated in the code.\n",
      "\n",
      "            <br><br>\n",
      "\n",
      "            <b> Exception Details: </b>System.ArgumentException: Unknown web method .<br>Parameter name: methodName<br><br>\n",
      "\n",
      "            <b>Source Error:</b> <br><br>\n",
      "\n",
      "            <table width=100% bgcolor=\"#ffffcc\">\n",
      "               <tr>\n",
      "                  <td>\n",
      "                      <code>\n",
      "\n",
      "An unhandled exception was generated during the execution of the current web request. Information regarding the origin and location of the exception can be identified using the exception stack trace below.</code>\n",
      "\n",
      "                  </td>\n",
      "               </tr>\n",
      "            </table>\n",
      "\n",
      "            <br>\n",
      "\n",
      "            <b>Stack Trace:</b> <br><br>\n",
      "\n",
      "            <table width=100% bgcolor=\"#ffffcc\">\n",
      "               <tr>\n",
      "                  <td>\n",
      "                      <code><pre>\n",
      "\n",
      "[ArgumentException: Unknown web method .\n",
      "Parameter name: methodName]\n",
      "   System.Web.Script.Services.WebServiceData.GetMethodData(String methodName) +220\n",
      "   System.Web.Handlers.ScriptModule.OnPostAcquireRequestState(Object sender, EventArgs eventArgs) +247\n",
      "   System.Web.SyncEventExecutionStep.System.Web.HttpApplication.IExecutionStep.Execute() +223\n",
      "   System.Web.HttpApplication.ExecuteStepImpl(IExecutionStep step) +213\n",
      "   System.Web.HttpApplication.ExecuteStep(IExecutionStep step, Boolean&amp; completedSynchronously) +91\n",
      "</pre></code>\n",
      "\n",
      "                  </td>\n",
      "               </tr>\n",
      "            </table>\n",
      "\n",
      "            <br>\n",
      "\n",
      "            <hr width=100% size=1 color=silver>\n",
      "\n",
      "            <b>Version Information:</b>&nbsp;Microsoft .NET Framework Version:4.0.30319; ASP.NET Version:4.7.3930.0\n",
      "\n",
      "            </font>\n",
      "\n",
      "    </body>\n",
      "</html>\n",
      "<!-- \n",
      "[ArgumentException]: Unknown web method .\n",
      "Parameter name: methodName\n",
      "   at System.Web.Script.Services.WebServiceData.GetMethodData(String methodName)\n",
      "   at System.Web.Handlers.ScriptModule.OnPostAcquireRequestState(Object sender, EventArgs eventArgs)\n",
      "   at System.Web.HttpApplication.SyncEventExecutionStep.System.Web.HttpApplication.IExecutionStep.Execute()\n",
      "   at System.Web.HttpApplication.ExecuteStepImpl(IExecutionStep step)\n",
      "   at System.Web.HttpApplication.ExecuteStep(IExecutionStep step, Boolean& completedSynchronously)\n",
      "--><!-- \n",
      "This error page might contain sensitive information because ASP.NET is configured to show verbose error messages using &lt;customErrors mode=\"Off\"/&gt;. Consider using &lt;customErrors mode=\"On\"/&gt; or &lt;customErrors mode=\"RemoteOnly\"/&gt; in production environments.-->\n"
     ]
    }
   ],
   "source": [
    "import java.net.URI;\n",
    "import java.net.http.HttpClient;\n",
    "import java.net.http.HttpRequest;\n",
    "import java.net.http.HttpResponse;\n",
    "\n",
    "HttpRequest request = HttpRequest.newBuilder()\n",
    "\t\t.uri(URI.create(\"https://multiple-choice-quiz-corrector.p.rapidapi.com/\"))\n",
    "\t\t.header(\"content-type\", \"application/json\")\n",
    "\t\t.header(\"X-RapidAPI-Key\", \"8a72a745admsh4f6260fd91442a9p17d011jsn6dc5cd0e2605\")\n",
    "\t\t.header(\"X-RapidAPI-Host\", \"multiple-choice-quiz-corrector.p.rapidapi.com\")\n",
    "\t\t.method(\"POST\", HttpRequest.BodyPublishers.ofString(\"{\\r\\n    \\\"key1\\\": \\\"value\\\",\\r\\n    \\\"key2\\\": \\\"value\\\"\\r\\n}\"))\n",
    "\t\t.build();\n",
    "HttpResponse<String> response = HttpClient.newHttpClient().send(request, HttpResponse.BodyHandlers.ofString());\n",
    "System.out.println(response.body());"
   ]
  },
  {
   "cell_type": "markdown",
   "metadata": {},
   "source": [
    "Hacks Questions:\n",
    "What are the benefits of using an API?\n",
    "- Connect applications with online values\n",
    "- Data organization is much simpler\n",
    "- Constant updates and website is more up to date\n",
    "\n",
    "What are the benefits of backend implementation?\n",
    "- More flexibility and control over what's being worked on\n",
    "- Easier to manage without changing what customers see"
   ]
  }
 ],
 "metadata": {
  "kernelspec": {
   "display_name": "Java",
   "language": "java",
   "name": "java"
  },
  "language_info": {
   "codemirror_mode": "java",
   "file_extension": ".jshell",
   "mimetype": "text/x-java-source",
   "name": "Java",
   "pygments_lexer": "java",
   "version": "11.0.16+8-post-Ubuntu-0ubuntu120.04"
  },
  "orig_nbformat": 4
 },
 "nbformat": 4,
 "nbformat_minor": 2
}
