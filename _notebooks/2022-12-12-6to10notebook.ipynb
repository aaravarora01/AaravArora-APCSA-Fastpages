{
 "cells": [
  {
   "attachments": {},
   "cell_type": "markdown",
   "metadata": {},
   "source": [
    "# \"CollegeBoard Units 6 to 10\"\n",
    "> \"Units 6 to 10 Learnings, HW, Notes, Code Snippets\"\n",
    "\n",
    "- toc:true\n",
    "- branch: master\n",
    "- badges: true\n",
    "- comments: true\n",
    "- categories: [jupyter, CollegeBoard Learning]"
   ]
  },
  {
   "attachments": {},
   "cell_type": "markdown",
   "metadata": {},
   "source": [
    "| Unit                | Score           |\n",
    "|---------------------|-----------------|\n",
    "| 6 - Arrays          | /1              |\n",
    "| 7 - ArrayList       | 0.95/1          |\n",
    "| 8 - 2D Array        | /1              |\n",
    "| 9 - Inheritance     | /1              |\n",
    "| 10 - Recursion      | /1              |"
   ]
  },
  {
   "attachments": {},
   "cell_type": "markdown",
   "metadata": {},
   "source": [
    "## Notes\n",
    "- 6.1: how to declare arrays, mc about installation/access\n",
    "- 6.2: access an array using for/while, mc about ouput of code, FRQ about traversal\n",
    "- 6.3: enhanced loop structure\n",
    "- 6.4: using min/max, average of data, sifting array values\n",
    "- Array: type of data structure, arrays and array lists are different\n",
    "- Primitive data contains single variable type\n",
    "- Element is one value in an array, index is the position of the value in an array\n",
    "- Common errors are bound errors or uninitialized and unfilled arrays\n",
    "- Traversing an array is accessing values inside of it\n",
    "- You can use iteration or loop to traverse an array\n",
    "- You can use a basic for loop to see all the elements of the array\n",
    "- Use an enhanced for loop to visit all elements of the array\n",
    "- Developing algorithms --> identifying max/min, finding sums of arrays, sorting arrays, array.length, array[i]\n",
    "\n",
    "\n",
    "### HW ###\n",
    "\n",
    "https://aaravarora01.github.io/AaravArora-APCSA-Fastpages/jupyter/2022/11/08/arrays.html"
   ]
  }
 ],
 "metadata": {
  "kernelspec": {
   "display_name": "Java",
   "language": "java",
   "name": "java"
  },
  "language_info": {
   "name": "java"
  },
  "orig_nbformat": 4
 },
 "nbformat": 4,
 "nbformat_minor": 2
}
