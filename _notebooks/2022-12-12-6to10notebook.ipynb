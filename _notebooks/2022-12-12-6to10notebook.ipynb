{
 "cells": [
  {
   "attachments": {},
   "cell_type": "markdown",
   "metadata": {},
   "source": [
    "# \"CollegeBoard Units 6 to 10\"\n",
    "> \"Units 6 to 10 Learnings, HW, Notes, Code Snippets\"\n",
    "\n",
    "- toc:true\n",
    "- branch: master\n",
    "- badges: true\n",
    "- comments: true\n",
    "- categories: [jupyter, CollegeBoard Learning]"
   ]
  },
  {
   "attachments": {},
   "cell_type": "markdown",
   "metadata": {},
   "source": [
    "| Unit                | Score           |\n",
    "|---------------------|-----------------|\n",
    "| 6 - Arrays          | 0.85/1          |\n",
    "| 7 - ArrayList       | 0.95/1          |\n",
    "| 8 - 2D Array        | 0.85/1          |\n",
    "| 9 - Inheritance     | 0.95/1          |\n",
    "| 10 - Recursion      | 1/1             |\n",
    "\n",
    "\n",
    "\n",
    "Total Score: 4.6/5"
   ]
  },
  {
   "attachments": {},
   "cell_type": "markdown",
   "metadata": {},
   "source": [
    "## Notes\n",
    "\n",
    "### Unit 6 - Arrays\n",
    "- 6.1: how to declare arrays, mc about installation/access\n",
    "- 6.2: access an array using for/while, mc about ouput of code, FRQ about traversal\n",
    "- 6.3: enhanced loop structure\n",
    "- 6.4: using min/max, average of data, sifting array values\n",
    "- Array: type of data structure, arrays and array lists are different\n",
    "- Primitive data contains single variable type\n",
    "- Element is one value in an array, index is the position of the value in an array\n",
    "- Common errors are bound errors or uninitialized and unfilled arrays\n",
    "- Traversing an array is accessing values inside of it\n",
    "- You can use iteration or loop to traverse an array\n",
    "- You can use a basic for loop to see all the elements of the array\n",
    "- Use an enhanced for loop to visit all elements of the array\n",
    "- Developing algorithms --> identifying max/min, finding sums of arrays, sorting arrays, array.length, array[i]\n",
    "\n",
    "\n",
    "#### Arrays HW ####\n",
    "\n",
    "https://aaravarora01.github.io/AaravArora-APCSA-Fastpages/jupyter/2022/11/08/arrays.html"
   ]
  },
  {
   "attachments": {},
   "cell_type": "markdown",
   "metadata": {},
   "source": [
    "### Unit 7 - ArrayList\n",
    "- size(); - Returns the number of elements in the list\n",
    "- add(obj); - Adds element at the end\n",
    "- add(index, object); - Adds element at specific index\n",
    "- remove(index); - Removes element from specific index\n",
    "- set(index, object); - Replaces element at index with new object\n",
    "- get(index); - Returns element at index\n",
    "- 2 ways to traverse arraylists --> for loops and enhanced for loops\n",
    "- Import java.util.ArrayList\n",
    "- Declare and instantiate ArrayList with primitive data type\n",
    "- Use parenthese at the end of the constructor and element types with brackets\n",
    "- Use .size() instead of .length in arraylists\n",
    "- Important to safeguard and protect data\n",
    "\n",
    "#### ArrayList HW ####\n",
    "\n",
    "https://github.com/rjawesome/CSASpringTri2/issues/10"
   ]
  },
  {
   "cell_type": "code",
   "execution_count": 1,
   "metadata": {},
   "outputs": [],
   "source": [
    "public int whereIsMyNumber(int magicNumber, int [] myNumbers)\n",
    "    {\n",
    "        for (int index = 0; index < myNumbers.length; index++) //search through every single spot\n",
    "        {\n",
    "            if (myNumbers[index] == magicNumber) //do they match? if so return index\n",
    "            {\n",
    "                return index;\n",
    "            }\n",
    "        }\n",
    "        return -1; // if searched through every single spot, indicate its not there\n",
    "    }"
   ]
  },
  {
   "attachments": {},
   "cell_type": "markdown",
   "metadata": {},
   "source": [
    "### Unit 8 - 2D Array ###\n",
    "- Array - data structure used to implement a collection of primitive or object reference data\n",
    "- Element is a single value in the array\n",
    "- Index is the position of the element in the array\n",
    "- Array length is the amount of elements in the array\n",
    "\n",
    "#### 2D Array HW ####\n",
    "\n",
    "Submitted Google Form"
   ]
  },
  {
   "cell_type": "code",
   "execution_count": null,
   "metadata": {},
   "outputs": [],
   "source": [
    "// Declaring an array\n",
    "DataType[][] nameOf2DArray\n",
    "\n",
    "// Initializing an array\n",
    "DataType[][] nameOf2DArray = new DataType[r][c];\n",
    "\n",
    "// The # of arrays in the array\n",
    "r = list.length\n",
    "// The # of elements in the inner arrays\n",
    "c = list[0].length"
   ]
  },
  {
   "attachments": {},
   "cell_type": "markdown",
   "metadata": {},
   "source": [
    "### Unit 9 - Inheritance\n",
    "- Protected is an access modifier so that the attribute isn't affected by outside modifiers\n",
    "- To use the constructor of the superclass in subclass, we use the super keywords to use constructors that we can define in the super class\n",
    "- We can call a super class constructor with its attributes and then add assignments for other attributes\n",
    "- We can then extend the method to add something else into it\n",
    "- Overriding methods also exist to allow a subclass to provide a specific implementation of a method from a super class\n",
    "- Polymorphism means many forms --> we can do one thing in many ways through inheritance \n",
    "- Overloading methods - Having two methods with the same name but different arguments and functionalities \n",
    "- toString Method: Prints out the attributes of an object, converts string object into a string\n",
    "- equals Method: Compares two strings, returns a boolean value of true if equal, otherwise returns false\n",
    "- Abstract class + methods and abstraction\n",
    "- Cannot create an object from it directly, must be created using a child class inheriting from the abstract class\n",
    "- Abstract methods originally only have their signature created and must be fully established in the child class definition\n",
    "\n",
    "#### Inheritance HW ####\n",
    "\n",
    "https://horizon-ab.github.io/congenial-tribble/jupyter/college%20board/2022/12/13/unit9inheritance.html"
   ]
  },
  {
   "cell_type": "code",
   "execution_count": null,
   "metadata": {},
   "outputs": [],
   "source": [
    "// Utilized toString methods in all FRQs so far, here's an example from FRQ1\n",
    "public String dayOfWeekToString() {\n",
    "    return (\"{ \\\"month\\\": \" + this.month + \", \" + \"\\\"day\\\": \" + this.day + \", \" + \"\\\"year\\\": \" + this.year + \", \"\n",
    "          + \"\\\"dayOfWeek\\\": \" + this.dayOfWeek + \" }\");\n",
    " }\n",
    "\n",
    "\n",
    "public String toString() {\n",
    "    return dayOfWeekToString();\n",
    " }"
   ]
  },
  {
   "cell_type": "code",
   "execution_count": null,
   "metadata": {},
   "outputs": [],
   "source": [
    "// Late binding:\n",
    "Car car = new TeslaModelS(\"Tesla\", 1, 2, 3, \"string\");"
   ]
  },
  {
   "attachments": {},
   "cell_type": "markdown",
   "metadata": {},
   "source": [
    "### Unit 10 - Recursion\n",
    "- Recursive methods repeatedly call itself, base case and recursive call\n",
    "- After multiple calls the base case is reached and a value is returned\n",
    "- Base case avoids infinite recursion\n",
    "- Each call has different values that lead to reaching the base case\n",
    "- Recursive calls are made from top to bottom and recursive returns are passed from bottom to top\n",
    "- Recursion uses function calls and iteration uses for and while loops\n",
    "- Binary search algorithm --> data needs to be sorted in order, keeps halving array until value is found, more efficient than linear search\n",
    "- Merge Sort --> sorts ArrayList structures and divides the input array into two halves, calls itself for the two halves, and then merges the two sorted halves\n",
    "- merge() function is used\n",
    "\n",
    "#### Recursion HW ####\n",
    "\n",
    "Submitted Google Form"
   ]
  },
  {
   "cell_type": "code",
   "execution_count": 1,
   "metadata": {},
   "outputs": [
    {
     "name": "stdout",
     "output_type": "stream",
     "text": [
      "Amount of terms?\n",
      "Here is the Fibonacci Sequence for 12 terms:\n",
      "0\n",
      "1\n",
      "1\n",
      "2\n",
      "3\n",
      "5\n",
      "8\n",
      "13\n",
      "21\n",
      "34\n",
      "55\n",
      "89"
     ]
    }
   ],
   "source": [
    "// Example of recursion:\n",
    "import java.util.Scanner; //library to take user input\n",
    "\n",
    "int amt; //defines variables being used\n",
    "System.out.println(\"Amount of terms?\");\n",
    "Scanner scanner = new Scanner(System.in); // takes in user input for amount of terms\n",
    "amt = scanner.nextInt();\n",
    "\n",
    "class RecursionLoop {     // recursively puts the term number back into the program and adds the term 2 less than the current to the term 1 less than the current\n",
    "    static int fib(int fibamt) {\n",
    "        if (fibamt <= 1) {\n",
    "            return fibamt;\n",
    "        }\n",
    "        else {\n",
    "            return fib(fibamt - 1) + fib(fibamt - 2);\n",
    "        }\n",
    "    }\n",
    "  \n",
    "    public static void main(String args[])\n",
    "    {\n",
    "        System.out.print(\"Here is the Fibonacci Sequence for \" + amt + \" terms:\");\n",
    "        for (int term = 0; term < amt; term++) {   // prints out the terms using for loop for each term calculated in the recursionloop\n",
    "            System.out.print(\"\\n\" + fib(term));\n",
    "        }\n",
    "    }\n",
    "}\n",
    "\n",
    "\n",
    "RecursionLoop.main(null);"
   ]
  }
 ],
 "metadata": {
  "kernelspec": {
   "display_name": "Java",
   "language": "java",
   "name": "java"
  },
  "language_info": {
   "codemirror_mode": "java",
   "file_extension": ".jshell",
   "mimetype": "text/x-java-source",
   "name": "java",
   "pygments_lexer": "java",
   "version": "17.0.5+8-Ubuntu-2ubuntu120.04"
  },
  "orig_nbformat": 4
 },
 "nbformat": 4,
 "nbformat_minor": 2
}
