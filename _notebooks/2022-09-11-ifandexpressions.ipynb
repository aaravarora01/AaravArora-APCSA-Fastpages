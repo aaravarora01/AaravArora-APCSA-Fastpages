{
 "cells": [
  {
   "cell_type": "markdown",
   "metadata": {},
   "source": [
    "# \"Ifs and Expressions\"\n",
    "> \"Ifs and Expressions w/ De Morgan's and Hacks\"\n",
    "\n",
    "- toc:true\n",
    "- branch: master\n",
    "- badges: true\n",
    "- comments: true\n",
    "- categories: [jupyter, pbl]"
   ]
  },
  {
   "cell_type": "markdown",
   "metadata": {},
   "source": [
    "If and Expressions Notebook"
   ]
  },
  {
   "cell_type": "markdown",
   "metadata": {},
   "source": [
    "if: If condition1 happens, then do result1\n",
    "\n",
    "if-else: If condition1 happens, do result1. Otherwise, do result2.\n",
    "\n",
    "if-elseif-else: If condition1 happens, do result1. If condition1 does not happen and condition2 does happen, do result2. Else, do result3."
   ]
  },
  {
   "cell_type": "code",
   "execution_count": 26,
   "metadata": {
    "vscode": {
     "languageId": "java"
    }
   },
   "outputs": [
    {
     "name": "stdout",
     "output_type": "stream",
     "text": [
      "You rolled a 5\n"
     ]
    }
   ],
   "source": [
    "import java.util.Random;\n",
    "\n",
    "int random_num = 0; // defining random number variable\n",
    "\n",
    "Random num = new Random();\n",
    "random_num = num.nextInt(6) + 1; // generating random number from 1-6 to simulate diceroll\n",
    "\n",
    "// Checking what the result of a diceroll is\n",
    "\n",
    "if (random_num == 1) {\n",
    "    System.out.println(\"You rolled a 1\");\n",
    "    // checks if the roll is equal to 1\n",
    "} else if (random_num == 2) {\n",
    "    System.out.println(\"You rolled a 2\");\n",
    "    // checks if the roll is equal to 2\n",
    "} else if (x == 3) {\n",
    "    System.out.println(\"You rolled a 3\");\n",
    "    // checks if the roll is equal to 3\n",
    "} else if (x == 4){\n",
    "    System.out.println(\"You rolled a 4\");\n",
    "    // checks if the roll is equal to 4\n",
    "} else if (x == 5){\n",
    "    System.out.println(\"You rolled a 5\");\n",
    "    // checks if the roll is equal to 5\n",
    "} else {\n",
    "    System.out.println(\"You rolled a 6\");\n",
    "    // checks if the roll is equal to 6\n",
    "}"
   ]
  },
  {
   "cell_type": "markdown",
   "metadata": {},
   "source": [
    "Switch Case Example:\n",
    "\n",
    "- Checks multiple conditions at one time\n",
    "- Works with all data types\n",
    "- Different condition for each case\n",
    "- Final case is the default, when none of the conditions are met\n",
    "- Cleaner code"
   ]
  },
  {
   "cell_type": "code",
   "execution_count": 46,
   "metadata": {
    "vscode": {
     "languageId": "java"
    }
   },
   "outputs": [
    {
     "name": "stdout",
     "output_type": "stream",
     "text": [
      "You rolled a 1 this time\n"
     ]
    }
   ],
   "source": [
    "import java.util.Random;\n",
    "\n",
    "int random_num = 0; // defining random number variable\n",
    "\n",
    "Random num = new Random();\n",
    "random_num = num.nextInt(6) + 1; // generating random number from 1-6 to simulate diceroll\n",
    "\n",
    "// Checking what the result of a diceroll is\n",
    "\n",
    "switch (random_num) {\n",
    "    case 1:  random_num = 1;\n",
    "        break;\n",
    "    case 2:  random_num = 2;\n",
    "        break;\n",
    "    case 3:  random_num = 3;\n",
    "        break;\n",
    "    case 4:  random_num = 4;\n",
    "        break;\n",
    "    case 5:  random_num = 5;\n",
    "        break;\n",
    "    case 6:  random_num = 6;\n",
    "        break;\n",
    "    default:\n",
    "        break;\n",
    "}\n",
    "System.out.println(\"You rolled a \" + random_num + \" this time\");"
   ]
  },
  {
   "cell_type": "markdown",
   "metadata": {},
   "source": [
    "De Morgan's Law:\n",
    "\n",
    "- Dictates how we negate an AND statement + an OR statement\n",
    "- !(a && b) is equivalent to !a || !b\n",
    "This means that not (a and b) is equal to not a or not b\n",
    "- !(a || b) is equivalent to !a && !b\n",
    "This means that not (a or b) is equal to not a and not b\n",
    "\n",
    "In java, we can use this with true and false instead of a and b"
   ]
  },
  {
   "cell_type": "code",
   "execution_count": 52,
   "metadata": {
    "vscode": {
     "languageId": "java"
    }
   },
   "outputs": [
    {
     "name": "stdout",
     "output_type": "stream",
     "text": [
      "Worked\n"
     ]
    }
   ],
   "source": [
    "if (!((true == true) && (true == false))) {\n",
    "    System.out.println(\"Worked\");\n",
    "}\n",
    "else {\n",
    "    System.out.println(\"Didn't work\");\n",
    "}"
   ]
  },
  {
   "cell_type": "markdown",
   "metadata": {},
   "source": [
    "Resources I used:\n",
    "\n",
    "https://www.w3schools.com/java/java_switch.asp\n",
    "\n",
    "https://exlskills.com/learn-en/courses/java-selection-statements-selection_statements_java/selection-statements-HmvmejKsdGBS/logical-operators-FidIKfVaKgJG/de-morgans-law-CASLTiREzqXY"
   ]
  }
 ],
 "metadata": {
  "kernelspec": {
   "display_name": "Java",
   "language": "java",
   "name": "java"
  },
  "language_info": {
   "codemirror_mode": "java",
   "file_extension": ".jshell",
   "mimetype": "text/x-java-source",
   "name": "Java",
   "pygments_lexer": "java",
   "version": "11.0.16+8-post-Ubuntu-0ubuntu120.04"
  },
  "orig_nbformat": 4
 },
 "nbformat": 4,
 "nbformat_minor": 2
}
