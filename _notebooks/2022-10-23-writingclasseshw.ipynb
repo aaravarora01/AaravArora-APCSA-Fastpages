{
 "cells": [
  {
   "cell_type": "markdown",
   "metadata": {},
   "source": [
    "# \"Writing Classes FRQ\"\n",
    "> \"Writting Classes FRQ Solutions\"\n",
    "\n",
    "- toc:true\n",
    "- branch: master\n",
    "- badges: true\n",
    "- comments: true\n",
    "- categories: [jupyter]"
   ]
  },
  {
   "cell_type": "markdown",
   "metadata": {},
   "source": [
    "### FRQ 2021 1a"
   ]
  },
  {
   "cell_type": "code",
   "execution_count": null,
   "metadata": {
    "vscode": {
     "languageId": "java"
    }
   },
   "outputs": [],
   "source": [
    "int number = 0;\n",
    "public int scoreGuess(String guess) {\n",
    "for (int n = 0; n <= secret.length() - guess.length(); i++;) {\n",
    "    if (secret.substring(i,i + guess.length()).equals(guess)) {\n",
    "        count++;\n",
    "    }\n",
    "}\n",
    "return count * guess.length() * guess.length();\n",
    "}"
   ]
  },
  {
   "cell_type": "markdown",
   "metadata": {},
   "source": [
    "### FRQ 2021 3a"
   ]
  },
  {
   "cell_type": "code",
   "execution_count": null,
   "metadata": {
    "vscode": {
     "languageId": "java"
    }
   },
   "outputs": [],
   "source": [
    "public void addMembers(String[] names, int gradYear) {\n",
    "    for (each : names) {\n",
    "        PersonDetails newM = new MemberInfo (n, gradYear, true);\n",
    "        memberList.add(newM);\n",
    "    }\n",
    "}"
   ]
  }
 ],
 "metadata": {
  "language_info": {
   "name": "python"
  },
  "orig_nbformat": 4
 },
 "nbformat": 4,
 "nbformat_minor": 2
}
