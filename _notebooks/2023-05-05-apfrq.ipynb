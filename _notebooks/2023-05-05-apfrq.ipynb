{
 "cells": [
  {
   "attachments": {},
   "cell_type": "markdown",
   "metadata": {},
   "source": [
    "# AP CSA 2023 FRQ Questions 3 and 4 #\n",
    "> \"Questions 3 and 4 Solutions\"\n",
    "\n",
    "- toc:true\n",
    "- branch: master\n",
    "- badges: true\n",
    "- comments: true\n",
    "- categories: [jupyter, CollegeBoard Learning]"
   ]
  },
  {
   "cell_type": "code",
   "execution_count": null,
   "metadata": {
    "vscode": {
     "languageId": "java"
    }
   },
   "outputs": [],
   "source": [
    "// Question 3A\n",
    "\n",
    "public void CleanData(double lower, double upper) {\n",
    "    for (int i = 0; i < temperatures.size(); i++) {\n",
    "        if (temperatures.get(i) > upper || temperatures.get(i) < lower) {\n",
    "            temperatures.remove(i);\n",
    "            i--;\n",
    "        }\n",
    "    }\n",
    "}\n",
    "\n",
    "// Question 3B\n",
    "\n",
    "public int longestHeatWave(double threshold) {\n",
    "    int current = 0;\n",
    "    int max = 0;\n",
    "    for (int i = 0; i < temperatures.size(); i++) {\n",
    "        if (temperatures.get(i) > threshold) {\n",
    "            current++;\n",
    "            if (current > max) {\n",
    "                max = current;\n",
    "            }\n",
    "        }\n",
    "        else {\n",
    "            current = 0;\n",
    "        }\n",
    "    }\n",
    "    return max;\n",
    "}"
   ]
  },
  {
   "cell_type": "code",
   "execution_count": null,
   "metadata": {
    "vscode": {
     "languageId": "java"
    }
   },
   "outputs": [],
   "source": [
    "// Question 4A\n",
    "\n",
    "public boolean moveCandyToFirstRow(int col) {\n",
    "    if (box[0][col] != null) {\n",
    "        return true;\n",
    "    }\n",
    "    else {\n",
    "        for (int i = 0; i < box.length; i++) {\n",
    "            if (box[i][col] != null) {\n",
    "                box[0][col] = box[i][col];\n",
    "                box[i][col] = null;\n",
    "                return true;\n",
    "            }\n",
    "        }\n",
    "    }\n",
    "    return false;\n",
    "}\n",
    "\n",
    "// Question 4B\n",
    "\n",
    "public Candy removeNextByFlavor(String flavor) {\n",
    "    for (int row = box.length - 1; row <= 0; row--) {\n",
    "        for (int col = 0; col < box[0].length; col++) {\n",
    "            Candy c = box[row][col];\n",
    "            if (c.getFlavor().equals(flavor)) {\n",
    "                box[row][col] = null;\n",
    "                return c;\n",
    "            }\n",
    "        }\n",
    "    }\n",
    "    return null;\n",
    "}"
   ]
  }
 ],
 "metadata": {
  "language_info": {
   "name": "python"
  },
  "orig_nbformat": 4
 },
 "nbformat": 4,
 "nbformat_minor": 2
}
