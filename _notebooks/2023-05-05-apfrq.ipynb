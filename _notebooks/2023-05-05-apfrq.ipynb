{
 "cells": [
  {
   "cell_type": "code",
   "execution_count": null,
   "metadata": {
    "vscode": {
     "languageId": "java"
    }
   },
   "outputs": [],
   "source": [
    "// 3A\n",
    "\n",
    "public void CleanData(double lower, double upper) {\n",
    "    for (int i = 0; i < temperatures.size(); i++) {\n",
    "        if (temperatures.get(i) > upper || temperatures.get(i) < lower) {\n",
    "            temperatures.remove(i);\n",
    "            i--;\n",
    "        }\n",
    "    }\n",
    "}\n",
    "\n",
    "// 3B\n",
    "\n",
    "public int longestHeatWave(double threshold) {\n",
    "    int current = 0;\n",
    "    int max = 0;\n",
    "    for (int i = 0; i < temperatures.size(); i++) {\n",
    "        if (temperatures.get(i) > threshold) {\n",
    "            max++\n",
    "            if (max > current) {\n",
    "                max = current;\n",
    "            }\n",
    "        }\n",
    "        else {\n",
    "            current = 0;\n",
    "        }\n",
    "    }\n",
    "    return max;\n",
    "}"
   ]
  }
 ],
 "metadata": {
  "language_info": {
   "name": "python"
  },
  "orig_nbformat": 4
 },
 "nbformat": 4,
 "nbformat_minor": 2
}
