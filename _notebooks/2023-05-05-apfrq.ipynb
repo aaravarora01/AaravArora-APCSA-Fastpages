{
 "cells": [
  {
   "attachments": {},
   "cell_type": "markdown",
   "metadata": {},
   "source": [
    "# AP CSA 2023 FRQ Questions 3 and 4 #\n",
    "> \"Questions 3 and 4 Solutions\"\n",
    "\n",
    "- toc:true\n",
    "- branch: master\n",
    "- badges: true\n",
    "- comments: true\n",
    "- categories: [jupyter, CollegeBoard Learning]"
   ]
  },
  {
   "cell_type": "code",
   "execution_count": null,
   "metadata": {
    "vscode": {
     "languageId": "java"
    }
   },
   "outputs": [],
   "source": [
    "// Question 3A\n",
    "\n",
    "public void cleanData(double lower, double upper) {\n",
    "    // Iterates through each element in the temperatures\n",
    "    for (int i = 0; i < temperatures.size(); i++) {\n",
    "        // Checks if the temperature is outside the boundaries\n",
    "        if (temperatures.get(i) > upper || temperatures.get(i) < lower) {\n",
    "            // Remove the element from temperatures\n",
    "            temperatures.remove(i);\n",
    "            // Goes back one index to avoid off by one error\n",
    "            i--;\n",
    "        }\n",
    "    }\n",
    "}\n",
    "\n",
    "// Question 3B\n",
    "\n",
    "public int longestHeatWave(double threshold) {\n",
    "    // Creates variables for current heatwave length and maximum heatwave length\n",
    "    int current = 0;\n",
    "    int max = 0;\n",
    "    // Iterates through each element in temperatures\n",
    "    for (int i = 0; i < temperatures.size(); i++) {\n",
    "        // If the temperature is greater than the threshold\n",
    "        if (temperatures.get(i) > threshold) {\n",
    "            // Add one to the current heatwave length\n",
    "            current++;\n",
    "            // If the length of the current heatwave is greater than the maximum heatwave, set the current heatwave to the maximum value\n",
    "            if (current > max) {\n",
    "                max = current;\n",
    "            }\n",
    "        }\n",
    "        // If the temperature is less than the threshold, the heatwave has ended so set the current heatwave length to 0 \n",
    "        else {\n",
    "            current = 0;\n",
    "        }\n",
    "    }\n",
    "    // Return the length of the longest heatwave\n",
    "    return max;\n",
    "}"
   ]
  },
  {
   "cell_type": "code",
   "execution_count": null,
   "metadata": {
    "vscode": {
     "languageId": "java"
    }
   },
   "outputs": [],
   "source": [
    "// Question 4A\n",
    "\n",
    "public boolean moveCandyToFirstRow(int col) {\n",
    "    // Checks if the first row already has a candy\n",
    "    if (box[0][col] != null) {\n",
    "        return true;\n",
    "    }\n",
    "    else {\n",
    "        // If there is no candy, check each row for a candy\n",
    "        for (int i = 0; i < box.length; i++) {\n",
    "            // If there is a candy in the row, move it to the first row and remove it from row i and return true\n",
    "            if (box[i][col] != null) {\n",
    "                box[0][col] = box[i][col];\n",
    "                box[i][col] = null;\n",
    "                return true;\n",
    "            }\n",
    "        }\n",
    "    }\n",
    "    // If no candy is found in every row of the given column, return false\n",
    "    return false;\n",
    "}\n",
    "\n",
    "// Question 4B\n",
    "\n",
    "public Candy removeNextByFlavor(String flavor) {\n",
    "    // Iterate through each element by starting at the bottom left \n",
    "    for (int row = box.length - 1; row >= 0; row--) {\n",
    "        for (int col = 0; col < box[0].length; col++) {\n",
    "            // Store the candy in a variable called c\n",
    "            Candy c = box[row][col];\n",
    "            // If a candy exists and its flavor equals the given flavor, remove the candy and return it\n",
    "            if (c != null) {\n",
    "                if (c.getFlavor().equals(flavor)) {\n",
    "                    box[row][col] = null;\n",
    "                    return c;\n",
    "                }\n",
    "            }  \n",
    "        }\n",
    "    }\n",
    "    // If no candy has a matching flavor, return null\n",
    "    return null;\n",
    "}"
   ]
  }
 ],
 "metadata": {
  "language_info": {
   "name": "python"
  },
  "orig_nbformat": 4
 },
 "nbformat": 4,
 "nbformat_minor": 2
}
