{
 "cells": [
  {
   "cell_type": "markdown",
   "metadata": {},
   "source": [
    "# \"RapidAPI Notebook\"\n",
    "> \"RapidAPI for Stocks and Quizzes\"\n",
    "\n",
    "- toc:true\n",
    "- branch: master\n",
    "- badges: true\n",
    "- comments: true\n",
    "- categories: [jupyter, pbl]"
   ]
  },
  {
   "cell_type": "markdown",
   "metadata": {},
   "source": [
    "# Mr. M's Code"
   ]
  },
  {
   "cell_type": "code",
   "execution_count": 15,
   "metadata": {
    "vscode": {
     "languageId": "java"
    }
   },
   "outputs": [
    {
     "name": "stdout",
     "output_type": "stream",
     "text": [
      "{\"countries_stat\":[{\"country_name\":\"USA\",\"cases\":\"82,649,779\",\"deaths\":\"1,018,316\",\"region\":\"\",\"total_recovered\":\"80,434,925\",\"new_deaths\":\"0\",\"new_cases\":\"0\",\"serious_critical\":\"1,465\",\"active_cases\":\"1,196,538\",\"total_cases_per_1m_population\":\"247,080\",\"deaths_per_1m_population\":\"3,044\",\"total_tests\":\"1,000,275,726\",\"tests_per_1m_population\":\"2,990,303\"},{\"country_name\":\"India\",\"cases\":\"43,057,545\",\"deaths\":\"522,193\",\"region\":\"\",\"total_recovered\":\"42,519,479\",\"new_deaths\":\"0\",\"new_cases\":\"0\",\"serious_critical\":\"698\",\"active_cases\":\"15,873\",\"total_cases_per_1m_population\":\"30,657\",\"deaths_per_1m_population\":\"372\",\"total_tests\":\"834,717,702\",\"tests_per_1m_population\":\"594,319\"}}\n"
     ]
    }
   ],
   "source": [
    "import java.net.URI;\n",
    "import java.net.http.HttpClient;\n",
    "import java.net.http.HttpRequest;\n",
    "import java.net.http.HttpResponse;\n",
    "\n",
    "//RapidAPI header  https://rapidapi.com/spamakashrajtech/api/corona-virus-world-and-india-data\n",
    "HttpRequest request = HttpRequest.newBuilder()\n",
    "    .uri(URI.create(\"https://corona-virus-world-and-india-data.p.rapidapi.com/api\"))\n",
    "    .header(\"x-rapidapi-key\", \"dec069b877msh0d9d0827664078cp1a18fajsn2afac35ae063\")\n",
    "    .header(\"x-rapidapi-host\", \"corona-virus-world-and-india-data.p.rapidapi.com\")\n",
    "    .method(\"GET\", HttpRequest.BodyPublishers.noBody())\n",
    "    .build();\n",
    "\n",
    "//RapidAPI request and response\n",
    "HttpResponse<String> response = HttpClient.newHttpClient().send(request, HttpResponse.BodyHandlers.ofString());\n",
    "\n",
    "//RapidAPI Body\n",
    "System.out.println(response.body());"
   ]
  },
  {
   "cell_type": "code",
   "execution_count": 2,
   "metadata": {
    "vscode": {
     "languageId": "java"
    }
   },
   "outputs": [
    {
     "name": "stdout",
     "output_type": "stream",
     "text": [
      "{\"annualDividendYield\": \"0.008064727\",\"ask\": \"391.12\",\"avgDailyVol10Days\": \"31473016\",\"avgDailyVol3months\": \"35536849\",\"bid\": \"391.02\",\"company\": \"Apple Inc.\",\"currency\": \"USD\",\"delay\": \"0\",\"exchangeName\": \"NasdaqGS\",\"exchangeTimezone\": \"EDT\",\"fiftyDayAvg\": \"349.5147\",\"high\": \"389.02\",\"low\": \"375.52\",\"previousClose\": \"381.91\",\"price\": \"388.23\",\"symbol\": \"AAPL\",\"symbolName\": \"Apple\",\"volume\": \"40882505\"}"
     ]
    }
   ],
   "source": [
    "import java.net.URI;\n",
    "import java.net.http.HttpClient;\n",
    "import java.net.http.HttpRequest;\n",
    "import java.net.http.HttpResponse;\n",
    "\n",
    "HttpRequest request = HttpRequest.newBuilder()\n",
    "\t\t.uri(URI.create(\"https://stockexchangeapi.p.rapidapi.com/price/AAPL\"))\n",
    "\t\t.header(\"X-RapidAPI-Key\", \"8a72a745admsh4f6260fd91442a9p17d011jsn6dc5cd0e2605\")\n",
    "\t\t.header(\"X-RapidAPI-Host\", \"stockexchangeapi.p.rapidapi.com\")\n",
    "\t\t.method(\"GET\", HttpRequest.BodyPublishers.noBody())\n",
    "\t\t.build();\n",
    "HttpResponse<String> response = HttpClient.newHttpClient().send(request, HttpResponse.BodyHandlers.ofString());\n",
    "System.out.println(response.body());"
   ]
  },
  {
   "cell_type": "code",
   "execution_count": 7,
   "metadata": {
    "vscode": {
     "languageId": "java"
    }
   },
   "outputs": [
    {
     "name": "stdout",
     "output_type": "stream",
     "text": [
      "[{\"symbol\":\"NIFTY SMLCAP 50\",\"identifier\":\"NIFTY SMLCAP 50\",\"open\":4307.65,\"dayHigh\":4313,\"dayLow\":4285.45,\"lastPrice\":4300.5,\"previousClose\":4231.9,\"change\":68.60000000000036,\"pChange\":1.62,\"yearHigh\":5889.45,\"yearLow\":3588.3,\"totalTradedVolume\":29306232,\"totalTradedValue\":6699662844.91,\"lastUpdateTime\":\"04-Oct-2022 10:28:45\",\"perChange365d\":-20.56,\"perChange30d\":-3.52},{\"symbol\":\"ANGELONE\",\"identifier\":\"ANGELONEEQN\",\"open\":1442,\"dayHigh\":1475,\"dayLow\":1430.75,\"lastPrice\":1456,\"previousClose\":1363.75,\"change\":92.25,\"pChange\":6.76,\"totalTradedVolume\":581429,\"totalTradedValue\":845798952.01,\"lastUpdateTime\":\"04-Oct-2022 10:29:14\",\"yearHigh\":2022,\"yearLow\":990.5,\"perChange365d\":\"-\",\"perChange30d\":2.76},{\"symbol\":\"BDL\",\"identifier\":\"BDLEQN\",\"open\":884.2,\"dayHigh\":921.9,\"dayLow\":882,\"lastPrice\":915.2,\"previousClose\":875.9,\"change\":39.3,\"pChange\":4.49,\"totalTradedVolume\":607611,\"totalTradedValue\":548927929.62,\"lastUpdateTime\":\"04-Oct-2022 10:29:15\",\"yearHigh\":979.1,\"yearLow\":368.15,\"perChange365d\":131.9,\"perChange30d\":4.9},{\"symbol\":\"IDFC\",\"identifier\":\"IDFCEQN\",\"open\":67.4,\"dayHigh\":68.9,\"dayLow\":66.8,\"lastPrice\":68.25,\"previousClose\":65.65,\"change\":2.6,\"pChange\":3.96,\"totalTradedVolume\":3173013,\"totalTradedValue\":216621597.51,\"lastUpdateTime\":\"04-Oct-2022 10:29:15\",\"yearHigh\":71.7,\"yearLow\":42.2,\"perChange365d\":22.83,\"perChange30d\":-3.46},{\"symbol\":\"ZENSARTECH\",\"identifier\":\"ZENSARTECHEQN\",\"open\":213.9,\"dayHigh\":218.5,\"dayLow\":211.9,\"lastPrice\":217.85,\"previousClose\":209.85,\"change\":8,\"pChange\":3.81,\"totalTradedVolume\":367118,\"totalTradedValue\":79011135.96,\"lastUpdateTime\":\"04-Oct-2022 10:29:13\",\"yearHigh\":539,\"yearLow\":208,\"perChange365d\":-56.11,\"perChange30d\":-8.88},{\"symbol\":\"BSOFT\",\"identifier\":\"BSOFTEQN\",\"open\":284.9,\"dayHigh\":290.85,\"dayLow\":281.4,\"lastPrice\":289.45,\"previousClose\":278.9,\"change\":10.55,\"pChange\":3.78,\"totalTradedVolume\":1341743,\"totalTradedValue\":385402259.32,\"lastUpdateTime\":\"04-Oct-2022 10:29:15\",\"yearHigh\":585.85,\"yearLow\":277.15,\"perChange365d\":-29.79,\"perChange30d\":-13.1},{\"symbol\":\"MAHABANK\",\"identifier\":\"MAHABANKEQN\",\"open\":18,\"dayHigh\":18.3,\"dayLow\":17.95,\"lastPrice\":18.2,\"previousClose\":17.55,\"change\":0.65,\"pChange\":3.7,\"totalTradedVolume\":1650680,\"totalTradedValue\":29877308.000000004,\"lastUpdateTime\":\"04-Oct-2022 10:29:10\",\"yearHigh\":22.85,\"yearLow\":15,\"perChange365d\":-12.25,\"perChange30d\":-2.23},{\"symbol\":\"REDINGTON\",\"identifier\":\"REDINGTONEQN\",\"open\":143.75,\"dayHigh\":146.5,\"dayLow\":142.1,\"lastPrice\":145,\"previousClose\":141.1,\"change\":3.9,\"pChange\":2.76,\"totalTradedVolume\":722677,\"totalTradedValue\":104737577.61,\"lastUpdateTime\":\"04-Oct-2022 10:29:15\",\"yearHigh\":179.2,\"yearLow\":109.4,\"perChange365d\":-2.42,\"perChange30d\":-4.31},{\"symbol\":\"LATENTVIEW\",\"identifier\":\"LATENTVIEWEQN\",\"open\":359,\"dayHigh\":362.9,\"dayLow\":357.3,\"lastPrice\":361.55,\"previousClose\":352.1,\"change\":9.45,\"pChange\":2.68,\"totalTradedVolume\":76942,\"totalTradedValue\":27696811.740000002,\"lastUpdateTime\":\"04-Oct-2022 10:29:15\",\"yearHigh\":754.9,\"yearLow\":305.25,\"perChange365d\":\"-\",\"perChange30d\":-9.38},{\"symbol\":\"CANFINHOME\",\"identifier\":\"CANFINHOMEEQN\",\"open\":488,\"dayHigh\":499.25,\"dayLow\":487.55,\"lastPrice\":493.7,\"previousClose\":480.9,\"change\":12.8,\"pChange\":2.66,\"totalTradedVolume\":975825,\"totalTradedValue\":483296847.75,\"lastUpdateTime\":\"04-Oct-2022 10:29:15\",\"yearHigh\":722,\"yearLow\":406.65,\"perChange365d\":-28.35,\"perChange30d\":-24.37},{\"symbol\":\"METROBRAND\",\"identifier\":\"METROBRANDEQN\",\"open\":955.5,\"dayHigh\":969.85,\"dayLow\":948,\"lastPrice\":959,\"previousClose\":934.75,\"change\":24.25,\"pChange\":2.59,\"totalTradedVolume\":167180,\"totalTradedValue\":160305558.4,\"lastUpdateTime\":\"04-Oct-2022 10:29:15\",\"yearHigh\":969.85,\"yearLow\":426,\"perChange365d\":\"-\",\"perChange30d\":17.61},{\"symbol\":\"HINDCOPPER\",\"identifier\":\"HINDCOPPEREQN\",\"open\":107,\"dayHigh\":108.45,\"dayLow\":106.75,\"lastPrice\":107.25,\"previousClose\":104.6,\"change\":2.65,\"pChange\":2.53,\"totalTradedVolume\":639894,\"totalTradedValue\":68763009.24,\"lastUpdateTime\":\"04-Oct-2022 10:29:13\",\"yearHigh\":159.4,\"yearLow\":81.2,\"perChange365d\":-4.78,\"perChange30d\":-9.32},{\"symbol\":\"INTELLECT\",\"identifier\":\"INTELLECTEQN\",\"open\":518,\"dayHigh\":528.95,\"dayLow\":516.05,\"lastPrice\":524.45,\"previousClose\":511.7,\"change\":12.75,\"pChange\":2.49,\"totalTradedVolume\":120531,\"totalTradedValue\":63011196.18,\"lastUpdateTime\":\"04-Oct-2022 10:29:15\",\"yearHigh\":986.65,\"yearLow\":505.5,\"perChange365d\":-26.81,\"perChange30d\":-14.43},{\"symbol\":\"BALAMINES\",\"identifier\":\"BALAMINESEQN\",\"open\":3175,\"dayHigh\":3223.3,\"dayLow\":3171.15,\"lastPrice\":3193.7,\"previousClose\":3120,\"change\":73.7,\"pChange\":2.36,\"totalTradedVolume\":21266,\"totalTradedValue\":67862995.9,\"lastUpdateTime\":\"04-Oct-2022 10:29:10\",\"yearHigh\":4805,\"yearLow\":2692.75,\"perChange365d\":-31.43,\"perChange30d\":-9.01},{\"symbol\":\"JBCHEPHARM\",\"identifier\":\"JBCHEPHARMEQN\",\"open\":1975.3,\"dayHigh\":2020,\"dayLow\":1975.3,\"lastPrice\":2009.95,\"previousClose\":1965,\"change\":44.95,\"pChange\":2.29,\"totalTradedVolume\":22247,\"totalTradedValue\":44535156.949999996,\"lastUpdateTime\":\"04-Oct-2022 10:29:14\",\"yearHigh\":2048,\"yearLow\":1342.2,\"perChange365d\":4.18,\"perChange30d\":9.52},{\"symbol\":\"STLTECH\",\"identifier\":\"STLTECHEQN\",\"open\":166.9,\"dayHigh\":168.15,\"dayLow\":165.15,\"lastPrice\":167.6,\"previousClose\":164.2,\"change\":3.4,\"pChange\":2.07,\"totalTradedVolume\":204080,\"totalTradedValue\":34116053.599999994,\"lastUpdateTime\":\"04-Oct-2022 10:29:14\",\"yearHigh\":317.4,\"yearLow\":128.6,\"perChange365d\":-41.75,\"perChange30d\":-3.1},{\"symbol\":\"MANAPPURAM\",\"identifier\":\"MANAPPURAMEQN\",\"open\":98.15,\"dayHigh\":98.15,\"dayLow\":97.2,\"lastPrice\":97.7,\"previousClose\":95.75,\"change\":1.95,\"pChange\":2.04,\"totalTradedVolume\":1027055,\"totalTradedValue\":100343273.5,\"lastUpdateTime\":\"04-Oct-2022 10:29:13\",\"yearHigh\":224.5,\"yearLow\":81.5,\"perChange365d\":-46.67,\"perChange30d\":-7.08},{\"symbol\":\"FSL\",\"identifier\":\"FSLEQN\",\"open\":105.25,\"dayHigh\":105.8,\"dayLow\":104.15,\"lastPrice\":105.35,\"previousClose\":103.25,\"change\":2.1,\"pChange\":2.03,\"totalTradedVolume\":581235,\"totalTradedValue\":61023862.65,\"lastUpdateTime\":\"04-Oct-2022 10:29:13\",\"yearHigh\":222.7,\"yearLow\":93,\"perChange365d\":-47.09,\"perChange30d\":-1.43},{\"symbol\":\"CAMPUS\",\"identifier\":\"CAMPUSEQN\",\"open\":582.95,\"dayHigh\":585.2,\"dayLow\":579.05,\"lastPrice\":582.5,\"previousClose\":571.55,\"change\":10.95,\"pChange\":1.92,\"totalTradedVolume\":129013,\"totalTradedValue\":75057183.14,\"lastUpdateTime\":\"04-Oct-2022 10:29:15\",\"yearHigh\":617,\"yearLow\":297.1,\"perChange365d\":\"-\",\"perChange30d\":15.52},{\"symbol\":\"RENUKA\",\"identifier\":\"RENUKAEQN\",\"open\":58.1,\"dayHigh\":58.6,\"dayLow\":57.4,\"lastPrice\":58,\"previousClose\":56.95,\"change\":1.05,\"pChange\":1.84,\"totalTradedVolume\":6174947,\"totalTradedValue\":357899928.12,\"lastUpdateTime\":\"04-Oct-2022 10:29:14\",\"yearHigh\":63.2,\"yearLow\":24.4,\"perChange365d\":\"-\",\"perChange30d\":19.39},{\"symbol\":\"AMARAJABAT\",\"identifier\":\"AMARAJABATEQN\",\"open\":492,\"dayHigh\":492,\"dayLow\":485.15,\"lastPrice\":490.15,\"previousClose\":481.3,\"change\":8.85,\"pChange\":1.84,\"totalTradedVolume\":91202,\"totalTradedValue\":44629698.7,\"lastUpdateTime\":\"04-Oct-2022 10:29:14\",\"yearHigh\":781.6,\"yearLow\":438.05,\"perChange365d\":-37.23,\"perChange30d\":-5.64},{\"symbol\":\"CHAMBLFERT\",\"identifier\":\"CHAMBLFERTEQN\",\"open\":318,\"dayHigh\":319.85,\"dayLow\":316.35,\"lastPrice\":318.1,\"previousClose\":312.6,\"change\":5.5,\"pChange\":1.76,\"totalTradedVolume\":185401,\"totalTradedValue\":58883357.6,\"lastUpdateTime\":\"04-Oct-2022 10:29:14\",\"yearHigh\":516,\"yearLow\":260.8,\"perChange365d\":-8.02,\"perChange30d\":-9.6},{\"symbol\":\"TV18BRDCST\",\"identifier\":\"TV18BRDCSTEQN\",\"open\":38.2,\"dayHigh\":38.4,\"dayLow\":38,\"lastPrice\":38.25,\"previousClose\":37.6,\"change\":0.65,\"pChange\":1.73,\"totalTradedVolume\":971096,\"totalTradedValue\":37086156.239999995,\"lastUpdateTime\":\"04-Oct-2022 10:29:12\",\"yearHigh\":82.6,\"yearLow\":34.9,\"perChange365d\":-9.51,\"perChange30d\":-9.51},{\"symbol\":\"JUBLINGREA\",\"identifier\":\"JUBLINGREAEQN\",\"open\":517.9,\"dayHigh\":526.7,\"dayLow\":513.45,\"lastPrice\":518.7,\"previousClose\":510.2,\"change\":8.5,\"pChange\":1.67,\"totalTradedVolume\":227217,\"totalTradedValue\":118114213.11000001,\"lastUpdateTime\":\"04-Oct-2022 10:29:14\",\"yearHigh\":838.75,\"yearLow\":401.2,\"perChange365d\":-31.79,\"perChange30d\":8.85},{\"symbol\":\"BSE\",\"identifier\":\"BSEEQN\",\"open\":612.45,\"dayHigh\":614,\"dayLow\":608,\"lastPrice\":611.65,\"previousClose\":602.05,\"change\":9.6,\"pChange\":1.59,\"totalTradedVolume\":135540,\"totalTradedValue\":82714640.4,\"lastUpdateTime\":\"04-Oct-2022 10:29:14\",\"yearHigh\":1046.67,\"yearLow\":406.67,\"perChange365d\":-50.61,\"perChange30d\":-6.92},{\"symbol\":\"WELSPUNIND\",\"identifier\":\"WELSPUNINDEQN\",\"open\":74.4,\"dayHigh\":74.5,\"dayLow\":73.5,\"lastPrice\":74.05,\"previousClose\":72.9,\"change\":1.15,\"pChange\":1.58,\"totalTradedVolume\":126607,\"totalTradedValue\":9366385.860000001,\"lastUpdateTime\":\"04-Oct-2022 10:29:11\",\"yearHigh\":170.7,\"yearLow\":62.2,\"perChange365d\":-55.28,\"perChange30d\":-1.88},{\"symbol\":\"ANURAS\",\"identifier\":\"ANURASEQN\",\"open\":745,\"dayHigh\":745,\"dayLow\":733.1,\"lastPrice\":738.25,\"previousClose\":726.9,\"change\":11.35,\"pChange\":1.56,\"totalTradedVolume\":20314,\"totalTradedValue\":14984825.24,\"lastUpdateTime\":\"04-Oct-2022 10:28:59\",\"yearHigh\":1107.55,\"yearLow\":546.75,\"perChange365d\":-6.97,\"perChange30d\":-4.9},{\"symbol\":\"CDSL\",\"identifier\":\"CDSLEQN\",\"open\":1253,\"dayHigh\":1259.75,\"dayLow\":1242.85,\"lastPrice\":1247.55,\"previousClose\":1229.55,\"change\":18,\"pChange\":1.46,\"totalTradedVolume\":77728,\"totalTradedValue\":97049626.24,\"lastUpdateTime\":\"04-Oct-2022 10:29:09\",\"yearHigh\":1734.4,\"yearLow\":1015,\"perChange365d\":\"-\",\"perChange30d\":-1.52},{\"symbol\":\"HFCL\",\"identifier\":\"HFCLEQN\",\"open\":75.5,\"dayHigh\":75.9,\"dayLow\":74.55,\"lastPrice\":74.9,\"previousClose\":73.85,\"change\":1.05,\"pChange\":1.42,\"totalTradedVolume\":2253808,\"totalTradedValue\":169621590.08,\"lastUpdateTime\":\"04-Oct-2022 10:29:14\",\"yearHigh\":101.35,\"yearLow\":51.55,\"perChange365d\":\"-\",\"perChange30d\":-3.34},{\"symbol\":\"ALOKINDS\",\"identifier\":\"ALOKINDSBEN\",\"open\":18.15,\"dayHigh\":18.25,\"dayLow\":17.85,\"lastPrice\":18.2,\"previousClose\":17.95,\"change\":0.25,\"pChange\":1.39,\"totalTradedVolume\":210379,\"totalTradedValue\":3816275.06,\"lastUpdateTime\":\"04-Oct-2022 10:29:12\",\"yearHigh\":35.8,\"yearLow\":17.75,\"perChange365d\":\"-\",\"perChange30d\":-8.65},{\"symbol\":\"BIRLACORPN\",\"identifier\":\"BIRLACORPNEQN\",\"open\":948.8,\"dayHigh\":950.05,\"dayLow\":941,\"lastPrice\":947.9,\"previousClose\":934.9,\"change\":13,\"pChange\":1.39,\"totalTradedVolume\":16760,\"totalTradedValue\":15859988,\"lastUpdateTime\":\"04-Oct-2022 10:29:08\",\"yearHigh\":1650,\"yearLow\":823,\"perChange365d\":-32.62,\"perChange30d\":-3.5},{\"symbol\":\"KPITTECH\",\"identifier\":\"KPITTECHEQN\",\"open\":669.7,\"dayHigh\":672.7,\"dayLow\":663.1,\"lastPrice\":666.7,\"previousClose\":658.25,\"change\":8.45,\"pChange\":1.28,\"totalTradedVolume\":462866,\"totalTradedValue\":309106543.46,\"lastUpdateTime\":\"04-Oct-2022 10:29:15\",\"yearHigh\":801,\"yearLow\":300.25,\"perChange365d\":94.72,\"perChange30d\":16.67},{\"symbol\":\"GRAPHITE\",\"identifier\":\"GRAPHITEEQN\",\"open\":365,\"dayHigh\":367.7,\"dayLow\":363.15,\"lastPrice\":363.5,\"previousClose\":359.25,\"change\":4.25,\"pChange\":1.18,\"totalTradedVolume\":58059,\"totalTradedValue\":21166569.63,\"lastUpdateTime\":\"04-Oct-2022 10:29:14\",\"yearHigh\":634.35,\"yearLow\":348.25,\"perChange365d\":-40.04,\"perChange30d\":-11.58},{\"symbol\":\"LXCHEM\",\"identifier\":\"LXCHEMEQN\",\"open\":346.35,\"dayHigh\":348,\"dayLow\":342.6,\"lastPrice\":343.1,\"previousClose\":339.25,\"change\":3.85,\"pChange\":1.13,\"totalTradedVolume\":147650,\"totalTradedValue\":50855089.5,\"lastUpdateTime\":\"04-Oct-2022 10:29:06\",\"yearHigh\":597.8,\"yearLow\":274.2,\"perChange365d\":-37.44,\"perChange30d\":3.78},{\"symbol\":\"GNFC\",\"identifier\":\"GNFCEQN\",\"open\":647.65,\"dayHigh\":649.9,\"dayLow\":639.35,\"lastPrice\":642.6,\"previousClose\":635.6,\"change\":7,\"pChange\":1.1,\"totalTradedVolume\":324998,\"totalTradedValue\":209474210.92,\"lastUpdateTime\":\"04-Oct-2022 10:29:14\",\"yearHigh\":912,\"yearLow\":390.1,\"perChange365d\":49.48,\"perChange30d\":-14.14},{\"symbol\":\"CESC\",\"identifier\":\"CESCEQN\",\"open\":79,\"dayHigh\":79.4,\"dayLow\":78.15,\"lastPrice\":78.8,\"previousClose\":78,\"change\":0.8,\"pChange\":1.03,\"totalTradedVolume\":335182,\"totalTradedValue\":26372119.76,\"lastUpdateTime\":\"04-Oct-2022 10:29:14\",\"yearHigh\":102.45,\"yearLow\":68,\"perChange365d\":-14.66,\"perChange30d\":-2.5},{\"symbol\":\"BALRAMCHIN\",\"identifier\":\"BALRAMCHINEQN\",\"open\":350,\"dayHigh\":350.95,\"dayLow\":347.4,\"lastPrice\":348,\"previousClose\":344.7,\"change\":3.3,\"pChange\":0.96,\"totalTradedVolume\":169132,\"totalTradedValue\":59013537.440000005,\"lastUpdateTime\":\"04-Oct-2022 10:29:13\",\"yearHigh\":525.9,\"yearLow\":297.6,\"perChange365d\":-5.88,\"perChange30d\":-4.53},{\"symbol\":\"INDIGOPNTS\",\"identifier\":\"INDIGOPNTSEQN\",\"open\":1502.1,\"dayHigh\":1514.9,\"dayLow\":1497.15,\"lastPrice\":1503,\"previousClose\":1490.95,\"change\":12.05,\"pChange\":0.81,\"totalTradedVolume\":2622,\"totalTradedValue\":3942675.18,\"lastUpdateTime\":\"04-Oct-2022 10:29:14\",\"yearHigh\":2589.9,\"yearLow\":1353.6,\"perChange365d\":-40.98,\"perChange30d\":-6.21},{\"symbol\":\"UTIAMC\",\"identifier\":\"UTIAMCEQN\",\"open\":720.5,\"dayHigh\":723,\"dayLow\":712.1,\"lastPrice\":716.05,\"previousClose\":710.7,\"change\":5.35,\"pChange\":0.75,\"totalTradedVolume\":9610,\"totalTradedValue\":6893925.7,\"lastUpdateTime\":\"04-Oct-2022 10:29:13\",\"yearHigh\":1165.85,\"yearLow\":595,\"perChange365d\":-32.33,\"perChange30d\":-16.6},{\"symbol\":\"APOLLOTYRE\",\"identifier\":\"APOLLOTYREEQN\",\"open\":268.8,\"dayHigh\":271.65,\"dayLow\":264.55,\"lastPrice\":265.9,\"previousClose\":263.95,\"change\":1.95,\"pChange\":0.74,\"totalTradedVolume\":3375912,\"totalTradedValue\":905487116.6400001,\"lastUpdateTime\":\"04-Oct-2022 10:29:15\",\"yearHigh\":303.45,\"yearLow\":165.25,\"perChange365d\":17.7,\"perChange30d\":4.76},{\"symbol\":\"METROPOLIS\",\"identifier\":\"METROPOLISEQN\",\"open\":1525,\"dayHigh\":1536.9,\"dayLow\":1523.1,\"lastPrice\":1525,\"previousClose\":1514.75,\"change\":10.25,\"pChange\":0.68,\"totalTradedVolume\":25103,\"totalTradedValue\":38363659.75,\"lastUpdateTime\":\"04-Oct-2022 10:29:13\",\"yearHigh\":3579.9,\"yearLow\":1318.05,\"perChange365d\":-45.54,\"perChange30d\":7.97},{\"symbol\":\"ROUTE\",\"identifier\":\"ROUTEEQN\",\"open\":1398.9,\"dayHigh\":1398.9,\"dayLow\":1368,\"lastPrice\":1385,\"previousClose\":1376.15,\"change\":8.85,\"pChange\":0.64,\"totalTradedVolume\":59797,\"totalTradedValue\":82765625.66999999,\"lastUpdateTime\":\"04-Oct-2022 10:29:07\",\"yearHigh\":2389,\"yearLow\":1052,\"perChange365d\":-32.61,\"perChange30d\":-4.22},{\"symbol\":\"CYIENT\",\"identifier\":\"CYIENTEQN\",\"open\":794.7,\"dayHigh\":794.7,\"dayLow\":780.15,\"lastPrice\":784.65,\"previousClose\":779.95,\"change\":4.7,\"pChange\":0.6,\"totalTradedVolume\":23009,\"totalTradedValue\":18053781.759999998,\"lastUpdateTime\":\"04-Oct-2022 10:29:10\",\"yearHigh\":1292,\"yearLow\":720,\"perChange365d\":-26.61,\"perChange30d\":-6.54},{\"symbol\":\"MEDPLUS\",\"identifier\":\"MEDPLUSEQN\",\"open\":623,\"dayHigh\":623,\"dayLow\":617,\"lastPrice\":619,\"previousClose\":615.35,\"change\":3.65,\"pChange\":0.59,\"totalTradedVolume\":5026,\"totalTradedValue\":3109887.76,\"lastUpdateTime\":\"04-Oct-2022 10:28:58\",\"yearHigh\":1343,\"yearLow\":600,\"perChange365d\":\"-\",\"perChange30d\":-16.58},{\"symbol\":\"AMBER\",\"identifier\":\"AMBEREQN\",\"open\":2400,\"dayHigh\":2400,\"dayLow\":2372.05,\"lastPrice\":2383.95,\"previousClose\":2372.95,\"change\":11,\"pChange\":0.46,\"totalTradedVolume\":18523,\"totalTradedValue\":44181615.29,\"lastUpdateTime\":\"04-Oct-2022 10:29:08\",\"yearHigh\":4025.95,\"yearLow\":2040,\"perChange365d\":-31.03,\"perChange30d\":5.33},{\"symbol\":\"CHEMPLASTS\",\"identifier\":\"CHEMPLASTSEQN\",\"open\":418,\"dayHigh\":420.75,\"dayLow\":414.45,\"lastPrice\":416.05,\"previousClose\":414.25,\"change\":1.8,\"pChange\":0.43,\"totalTradedVolume\":18925,\"totalTradedValue\":7912921,\"lastUpdateTime\":\"04-Oct-2022 10:29:15\",\"yearHigh\":826,\"yearLow\":382.7,\"perChange365d\":-31.07,\"perChange30d\":-2},{\"symbol\":\"MRPL\",\"identifier\":\"MRPLEQN\",\"open\":62,\"dayHigh\":62.4,\"dayLow\":60.1,\"lastPrice\":60.45,\"previousClose\":60.2,\"change\":0.25,\"pChange\":0.42,\"totalTradedVolume\":1085279,\"totalTradedValue\":66202019,\"lastUpdateTime\":\"04-Oct-2022 10:29:14\",\"yearHigh\":127.65,\"yearLow\":37.05,\"perChange365d\":18.39,\"perChange30d\":-17.19},{\"symbol\":\"CAMS\",\"identifier\":\"CAMSEQN\",\"open\":2507,\"dayHigh\":2520,\"dayLow\":2470,\"lastPrice\":2483.5,\"previousClose\":2473.25,\"change\":10.25,\"pChange\":0.41,\"totalTradedVolume\":18000,\"totalTradedValue\":44797319.99999999,\"lastUpdateTime\":\"04-Oct-2022 10:29:13\",\"yearHigh\":3250,\"yearLow\":2037.15,\"perChange365d\":-17.16,\"perChange30d\":7.19},{\"symbol\":\"RADICO\",\"identifier\":\"RADICOEQN\",\"open\":1093.6,\"dayHigh\":1095,\"dayLow\":1077.3,\"lastPrice\":1077.95,\"previousClose\":1078.5,\"change\":-0.55,\"pChange\":-0.05,\"totalTradedVolume\":33774,\"totalTradedValue\":36585010.02,\"lastUpdateTime\":\"04-Oct-2022 10:29:11\",\"yearHigh\":1294,\"yearLow\":723.2,\"perChange365d\":20.29,\"perChange30d\":5.06},{\"symbol\":\"PVR\",\"identifier\":\"PVREQN\",\"open\":1780,\"dayHigh\":1783.6,\"dayLow\":1730,\"lastPrice\":1733.4,\"previousClose\":1756.05,\"change\":-22.65,\"pChange\":-1.29,\"totalTradedVolume\":148960,\"totalTradedValue\":260633822.4,\"lastUpdateTime\":\"04-Oct-2022 10:29:15\",\"yearHigh\":2214.85,\"yearLow\":1224.05,\"perChange365d\":9.78,\"perChange30d\":-5.56},{\"symbol\":\"BAJAJELEC\",\"identifier\":\"BAJAJELECEQN\",\"open\":1204.7,\"dayHigh\":1213.25,\"dayLow\":1160.1,\"lastPrice\":1174.55,\"previousClose\":1191,\"change\":-16.45,\"pChange\":-1.38,\"totalTradedVolume\":83267,\"totalTradedValue\":98330000.30000001,\"lastUpdateTime\":\"04-Oct-2022 10:29:15\",\"yearHigh\":1380,\"yearLow\":858.55,\"perChange365d\":-8.87,\"perChange30d\":-2.56}]\n"
     ]
    }
   ],
   "source": [
    "import java.net.URI;\n",
    "import java.net.http.HttpClient;\n",
    "import java.net.http.HttpRequest;\n",
    "import java.net.http.HttpResponse;\n",
    "import java.io.IOException;\n",
    "\n",
    "\n",
    "class Stocks {\n",
    "    public static void main(String[] args) throws IOException, InterruptedException {\n",
    "\n",
    "\t\tHttpRequest request = HttpRequest.newBuilder()\n",
    "\t\t\t\t.uri(URI.create(\"https://latest-stock-price.p.rapidapi.com/price?Indices=NIFTY%20SMLCAP%2050\"))\n",
    "\t\t\t\t.header(\"X-RapidAPI-Key\", \"8a72a745admsh4f6260fd91442a9p17d011jsn6dc5cd0e2605\")\n",
    "\t\t\t\t.header(\"X-RapidAPI-Host\", \"latest-stock-price.p.rapidapi.com\")\n",
    "\t\t\t\t.method(\"GET\", HttpRequest.BodyPublishers.noBody())\n",
    "\t\t\t\t.build();\n",
    "\t\tHttpResponse<String> response = HttpClient.newHttpClient().send(request, HttpResponse.BodyHandlers.ofString());\n",
    "\t\tSystem.out.println(response.body());\n",
    "    }\n",
    "}\n",
    "Stocks.main(null);"
   ]
  },
  {
   "cell_type": "markdown",
   "metadata": {},
   "source": [
    "# Hacks Questions:\n",
    "### What are the benefits of using an API?\n",
    "- Connect applications with online values\n",
    "- Data organization is much simpler\n",
    "- Constant updates and website is more up to date\n",
    "\n",
    "### What are the benefits of backend implementation?\n",
    "- More flexibility and control over what's being worked on\n",
    "- Easier to manage without changing what customers see"
   ]
  }
 ],
 "metadata": {
  "kernelspec": {
   "display_name": "Java",
   "language": "java",
   "name": "java"
  },
  "language_info": {
   "codemirror_mode": "java",
   "file_extension": ".jshell",
   "mimetype": "text/x-java-source",
   "name": "Java",
   "pygments_lexer": "java",
   "version": "11.0.16+8-post-Ubuntu-0ubuntu120.04"
  },
  "orig_nbformat": 4
 },
 "nbformat": 4,
 "nbformat_minor": 2
}
