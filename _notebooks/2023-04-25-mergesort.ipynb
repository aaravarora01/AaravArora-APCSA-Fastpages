{
 "cells": [
  {
   "attachments": {},
   "cell_type": "markdown",
   "metadata": {},
   "source": [
    "# Merge Sort #\n",
    "> \"Merge Sort for Strings\"\n",
    "\n",
    "- toc:true\n",
    "- branch: master\n",
    "- badges: true\n",
    "- comments: true\n",
    "- categories: [jupyter, CollegeBoard Learning]"
   ]
  },
  {
   "attachments": {},
   "cell_type": "markdown",
   "metadata": {},
   "source": [
    "### Hack 1 ###"
   ]
  },
  {
   "cell_type": "code",
   "execution_count": 12,
   "metadata": {
    "vscode": {
     "languageId": "java"
    }
   },
   "outputs": [
    {
     "name": "stdout",
     "output_type": "stream",
     "text": [
      "[apple, ball, cat, dog]\n"
     ]
    }
   ],
   "source": [
    "public class StringMergeSort {\n",
    "    public static void mergeSort(String[] arr) {\n",
    "        if (arr.length < 2) {\n",
    "            return;\n",
    "        }\n",
    "        int middle = arr.length / 2;\n",
    "        String[] L = new String[middle];\n",
    "        String[] R = new String[arr.length - middle];\n",
    "        for (int i = 0; i < middle; i++) {\n",
    "            L[i] = arr[i];\n",
    "        }\n",
    "        for (int i = middle; i < arr.length; i++) {\n",
    "            R[i - middle] = arr[i];\n",
    "        }\n",
    "        mergeSort(L);\n",
    "        mergeSort(R);\n",
    "        merge(arr, L, R);\n",
    "    }\n",
    "\n",
    "    public static void merge(String[] arr, String[] L, String[] R) {\n",
    "        int i = 0;\n",
    "        int j = 0;\n",
    "        int k = 0;\n",
    "        while (i < L.length && j < R.length) {\n",
    "            if (L[i].compareTo(R[j]) < 0) {\n",
    "                arr[k++] = L[i++];\n",
    "            } \n",
    "            else {\n",
    "                arr[k++] = R[j++];\n",
    "            }\n",
    "        }\n",
    "        while (i < L.length) {\n",
    "            arr[k++] = L[i++];\n",
    "        }\n",
    "        while (j < R.length) {\n",
    "            arr[k++] = R[j++];\n",
    "        }\n",
    "    }\n",
    "\n",
    "    public static void main(String[] args) {\n",
    "        String[] arr = {\"ball\", \"apple\", \"cat\", \"dog\"};\n",
    "        mergeSort(arr);\n",
    "        System.out.println(Arrays.toString(arr));\n",
    "      }\n",
    "}\n",
    "\n",
    "StringMergeSort.main(null);"
   ]
  }
 ],
 "metadata": {
  "kernelspec": {
   "display_name": "Java",
   "language": "java",
   "name": "java"
  },
  "language_info": {
   "codemirror_mode": "java",
   "file_extension": ".jshell",
   "mimetype": "text/x-java-source",
   "name": "Java",
   "pygments_lexer": "java",
   "version": "17.0.5+8-Ubuntu-2ubuntu120.04"
  },
  "orig_nbformat": 4
 },
 "nbformat": 4,
 "nbformat_minor": 2
}
