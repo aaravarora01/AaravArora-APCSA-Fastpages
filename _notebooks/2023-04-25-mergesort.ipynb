{
 "cells": [
  {
   "cell_type": "code",
   "execution_count": 11,
   "metadata": {
    "vscode": {
     "languageId": "java"
    }
   },
   "outputs": [
    {
     "name": "stdout",
     "output_type": "stream",
     "text": [
      "[apple, ball, cat, dog]\n"
     ]
    }
   ],
   "source": [
    "public class StringMergeSort {\n",
    "    public static void mergeSort(String[] arr) {\n",
    "        if (arr.length < 2) {\n",
    "            return;\n",
    "        }\n",
    "        int middle = arr.length / 2;\n",
    "        String[] left = new String[middle];\n",
    "        String[] right = new String[arr.length - middle];\n",
    "        for (int i = 0; i < middle; i++) {\n",
    "            left[i] = arr[i];\n",
    "        }\n",
    "        for (int i = middle; i < arr.length; i++) {\n",
    "            right[i - middle] = arr[i];\n",
    "        }\n",
    "        mergeSort(left);\n",
    "        mergeSort(right);\n",
    "        merge(arr, left, right);\n",
    "    }\n",
    "\n",
    "    public static void merge(String[] arr, String[] left, String[] right) {\n",
    "        int i = 0, j = 0, k = 0;\n",
    "        while (i < left.length && j < right.length) {\n",
    "            if (left[i].compareTo(right[j]) < 0) {\n",
    "                arr[k++] = left[i++];\n",
    "            } \n",
    "            else {\n",
    "                arr[k++] = right[j++];\n",
    "            }\n",
    "        }\n",
    "        while (i < left.length) {\n",
    "            arr[k++] = left[i++];\n",
    "        }\n",
    "        while (j < right.length) {\n",
    "            arr[k++] = right[j++];\n",
    "        }\n",
    "    }\n",
    "\n",
    "    public static void main(String[] args) {\n",
    "        String[] arr = {\"ball\", \"apple\", \"cat\", \"dog\"};\n",
    "        mergeSort(arr);\n",
    "        System.out.println(Arrays.toString(arr));\n",
    "      }\n",
    "}\n",
    "\n",
    "StringMergeSort.main(null);"
   ]
  }
 ],
 "metadata": {
  "kernelspec": {
   "display_name": "Java",
   "language": "java",
   "name": "java"
  },
  "language_info": {
   "codemirror_mode": "java",
   "file_extension": ".jshell",
   "mimetype": "text/x-java-source",
   "name": "Java",
   "pygments_lexer": "java",
   "version": "17.0.5+8-Ubuntu-2ubuntu120.04"
  },
  "orig_nbformat": 4
 },
 "nbformat": 4,
 "nbformat_minor": 2
}
