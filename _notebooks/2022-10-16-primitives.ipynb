{
 "cells": [
  {
   "cell_type": "markdown",
   "metadata": {},
   "source": [
    "# \"2006 Primitives FRQ\"\n",
    "> \"Primitives FRQ Solution\"\n",
    "\n",
    "- toc:true\n",
    "- branch: master\n",
    "- badges: true\n",
    "- comments: true\n",
    "- categories: [jupyter]"
   ]
  },
  {
   "cell_type": "markdown",
   "metadata": {},
   "source": [
    "# 2006 FRQ #1"
   ]
  },
  {
   "cell_type": "code",
   "execution_count": null,
   "metadata": {},
   "outputs": [],
   "source": [
    "public boolean conflictsWith (Appointment other) {\n",
    "    return getTime().overlapsWith(other.getTime());\n",
    "}"
   ]
  },
  {
   "cell_type": "code",
   "execution_count": null,
   "metadata": {},
   "outputs": [],
   "source": [
    "int x = 0;\n",
    "public void clearConflicts (Appointment appt) {\n",
    "    while (x < apptList.size()) {\n",
    "        if (appt.conflictsWith((Appointment) (apptList.get(x)))) {\n",
    "            apptList.remove(x);\n",
    "        }\n",
    "        else {\n",
    "            x++;\n",
    "        }\n",
    "    }\n",
    "}"
   ]
  },
  {
   "cell_type": "code",
   "execution_count": null,
   "metadata": {},
   "outputs": [],
   "source": [
    "public boolean addAppt(Appointment appt, boolean emergency) {\n",
    "    if (emergency) {\n",
    "        clearConflicts(appt);\n",
    "    }\n",
    "    else {\n",
    "        for (int i = 0; i < apptList.size(); i++) {\n",
    "            if (appt.conflictsWith((Appointment)apptList.get(i))) {\n",
    "                return false;\n",
    "            }\n",
    "        }\n",
    "    }\n",
    " return apptList.add(appt); "
   ]
  },
  {
   "cell_type": "code",
   "execution_count": null,
   "metadata": {},
   "outputs": [],
   "source": [
    "public double purchasePrice() {\n",
    "    return (1 + taxRate) * getListPrice();\n",
    "} "
   ]
  },
  {
   "cell_type": "code",
   "execution_count": null,
   "metadata": {},
   "outputs": [],
   "source": [
    "public int compareCustomer(Customer other) {\n",
    "    int nameCompare = getName().compareTo(other.getName());\n",
    "    if (nameCompare != 0) {\n",
    "        return nameCompare;\n",
    "    }\n",
    "    else {\n",
    "        return getID() - other.getID();\n",
    "    }\n",
    "} "
   ]
  },
  {
   "cell_type": "markdown",
   "metadata": {},
   "source": [
    "# Goblins HW"
   ]
  },
  {
   "cell_type": "code",
   "execution_count": null,
   "metadata": {},
   "outputs": [],
   "source": [
    "public RandomGoblin extends goblin { \n",
    "\n",
    "    public RandomGoblin () {\n",
    "       this.hitPower = Math.random();\n",
    "    \n",
    "    }\n",
    "}"
   ]
  },
  {
   "cell_type": "code",
   "execution_count": null,
   "metadata": {},
   "outputs": [],
   "source": [
    "import java.lang.Math;\n",
    "\n",
    "public class Duel {\n",
    "\n",
    "    public static void attack(Goblin attackerGoblin, Goblin attackeeGoblin) {\n",
    "\n",
    "        System.out.println(attackerGoblin.getName() + \" attacks \" + attackeeGoblin.getName() + \"!\");\n",
    "        if (Math.random() < attackerGoblin.getHitChance()) {\n",
    "            attackeeGoblin.takeDMG(attackerGoblin.getDMG());\n",
    "            System.out.println(attackerGoblin.getName() + \" hits!\");\n",
    "            System.out.println(attackeeGoblin.getName() + \" takes \" + attackerGoblin.getDMG() + \" damage\");\n",
    "        } else {\n",
    "            System.out.println(attackerGoblin.getName() + \" misses...\");\n",
    "        }\n",
    "\n",
    "        System.out.println(attackeeGoblin.getName() + \" HP: \" + attackeeGoblin.getHP());\n",
    "        System.out.println();\n",
    "    }\n",
    "\n",
    "    public static void fight(Goblin goblin1, Goblin goblin2) {\n",
    "        while (goblin1.isAlive() && goblin2.isAlive()) {\n",
    "            \n",
    "            attack(goblin1, goblin2);\n",
    "\n",
    "            if (!goblin1.isAlive()) {\n",
    "                System.out.println(goblin1.getName() + \" has perished\");\n",
    "                break;\n",
    "            }\n",
    "\n",
    "            attack(goblin2, goblin1);\n",
    "\n",
    "            if (!goblin2.isAlive()) {\n",
    "                System.out.println(goblin2.getName() + \" has perished\");\n",
    "                break;\n",
    "            }\n",
    "        }\n",
    "    }\n",
    "\n",
    "    public static void main(String[] args) {\n",
    "        Goblin goblin1 = new Goblin();\n",
    "        goblin1.setName(\"jeffrey\");\n",
    "        goblin1.setHP(12);\n",
    "        goblin1.setDMG(2);\n",
    "        public RandomGoblin () {\n",
    "            this.hitPower = Math.random();\n",
    "         \n",
    "        Goblin goblin2 = new Goblin();\n",
    "        goblin2.setName(\"Gunther the great\");\n",
    "        goblin2.setHP(4);\n",
    "        goblin2.setDMG(1);\n",
    "        goblin2.setHitChance(1);\n",
    "\n",
    "        fight(goblin1, goblin2);\n",
    "    }\n",
    "}\n",
    "\n",
    "Duel.main(null);"
   ]
  }
 ],
 "metadata": {
  "kernelspec": {
   "display_name": "Java",
   "language": "java",
   "name": "java"
  },
  "language_info": {
   "name": "java"
  },
  "orig_nbformat": 4
 },
 "nbformat": 4,
 "nbformat_minor": 2
}
