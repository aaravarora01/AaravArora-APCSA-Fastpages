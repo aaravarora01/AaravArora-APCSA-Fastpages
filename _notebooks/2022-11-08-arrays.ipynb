{
 "cells": [
  {
   "cell_type": "markdown",
   "metadata": {},
   "source": [
    "# \"Arrays FRQ\"\n",
    "> \"Arrays FRQ Solutions\"\n",
    "\n",
    "- toc:true\n",
    "- branch: master\n",
    "- badges: true\n",
    "- comments: true\n",
    "- categories: [jupyter]"
   ]
  },
  {
   "cell_type": "code",
   "execution_count": 10,
   "metadata": {
    "vscode": {
     "languageId": "java"
    }
   },
   "outputs": [],
   "source": [
    "public static boolean ArrayMethods(int[] values) {\n",
    "    for (int i = 0; i < values.length - 1; i++) {\n",
    "        if (a[i] > a[i + 1]) {\n",
    "            return false;\n",
    "        }\n",
    "    }\n",
    "    return true;\n",
    "}"
   ]
  },
  {
   "cell_type": "code",
   "execution_count": null,
   "metadata": {
    "vscode": {
     "languageId": "java"
    }
   },
   "outputs": [],
   "source": [
    "public class ArrayMethods(int[] values) {\n",
    "    for (int i = 0; i < values.length; i++) {\n",
    "        for (int j = i + 1 ; j < values.length; j++) {\n",
    "            if (values[i].equals(values[j])) {\n",
    "                return true;\n",
    "            }\n",
    "            else {\n",
    "                return true;\n",
    "            }\n",
    "        }\n",
    "    }\n",
    "}"
   ]
  }
 ],
 "metadata": {
  "kernelspec": {
   "display_name": "Java",
   "language": "java",
   "name": "java"
  },
  "language_info": {
   "codemirror_mode": "java",
   "file_extension": ".jshell",
   "mimetype": "text/x-java-source",
   "name": "Java",
   "pygments_lexer": "java",
   "version": "11.0.16+8-post-Ubuntu-0ubuntu120.04"
  },
  "orig_nbformat": 4
 },
 "nbformat": 4,
 "nbformat_minor": 2
}
