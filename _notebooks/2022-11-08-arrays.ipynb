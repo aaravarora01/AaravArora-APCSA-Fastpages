{
 "cells": [
  {
   "cell_type": "markdown",
   "metadata": {},
   "source": [
    "# \"Arrays FRQ\"\n",
    "> \"Arrays FRQ Solutions\"\n",
    "\n",
    "- toc:true\n",
    "- branch: master\n",
    "- badges: true\n",
    "- comments: true\n",
    "- categories: [jupyter]"
   ]
  },
  {
   "cell_type": "code",
   "execution_count": 24,
   "metadata": {},
   "outputs": [
    {
     "name": "stdout",
     "output_type": "stream",
     "text": [
      "First and Last Element Swap: \n",
      "5\n",
      "2\n",
      "3\n",
      "4\n",
      "1\n",
      "Replacing All Elements w/ Zero: \n",
      "5\n",
      "0\n",
      "3\n",
      "0\n",
      "1\n",
      "Array In Increasing Order: false\n"
     ]
    }
   ],
   "source": [
    "// Write array methods for the Array Methods class below out of the options given above.\n",
    "public class ArrayMethods {\n",
    "    private static int[] values = {1, 2, 3, 4, 5};\n",
    "\n",
    "    public void printElements(){\n",
    "        for(int a = 0; a < values.length; a++){\n",
    "            System.out.println(values[a]);\n",
    "        }\n",
    "    }\n",
    "\n",
    "    public void swapElements(){\n",
    "        int firstElement = values[0];\n",
    "\n",
    "        values[0] = values[values.length-1];\n",
    "        values[values.length-1] = firstElement;\n",
    "    }\n",
    "\n",
    "    public void changetoZero() {\n",
    "        for(int a = 0; a < values.length; a++){\n",
    "            if(values[a] % 2 == 0){\n",
    "                values[a] = 0;\n",
    "            }\n",
    "        } \n",
    "    }\n",
    "\n",
    "\n",
    "    public static boolean checkSort(int[] a) {\n",
    "        for (int i = 0; i < a.length - 1; i++) {\n",
    "            if (a[i] > a[i + 1]) {\n",
    "                return false; \n",
    "            }\n",
    "        }\n",
    "    \n",
    "        return true; \n",
    "    }\n",
    "\n",
    "\n",
    "    public static void main(String[] args) {\n",
    "        System.out.println(\"First and Last Element Swap: \");\n",
    "        ArrayMethods swapElements = new ArrayMethods();\n",
    "        swapElements.swapElements();\n",
    "        swapElements.printElements();\n",
    "\n",
    "        System.out.println(\"Replacing All Elements w/ Zero: \");\n",
    "        ArrayMethods changetoZero = new ArrayMethods();\n",
    "        changetoZero.changetoZero();\n",
    "        changetoZero.printElements();\n",
    "\n",
    "        System.out.println(\"Array In Increasing Order: \" + (checkSort(values)));\n",
    "    }\n",
    "}\n",
    "\n",
    "ArrayMethods.main(null);"
   ]
  }
 ],
 "metadata": {
  "kernelspec": {
   "display_name": "Java",
   "language": "java",
   "name": "java"
  },
  "language_info": {
   "codemirror_mode": "java",
   "file_extension": ".jshell",
   "mimetype": "text/x-java-source",
   "name": "java",
   "pygments_lexer": "java",
   "version": "17.0.5+8-Ubuntu-2ubuntu120.04"
  },
  "orig_nbformat": 4
 },
 "nbformat": 4,
 "nbformat_minor": 2
}
