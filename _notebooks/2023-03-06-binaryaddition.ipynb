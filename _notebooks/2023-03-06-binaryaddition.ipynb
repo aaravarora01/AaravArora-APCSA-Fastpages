{
 "cells": [
  {
   "attachments": {},
   "cell_type": "markdown",
   "metadata": {},
   "source": [
    "# \"Binary Addition Hacks\"\n",
    "> \"Binary Addition w/ User Input\"\n",
    "\n",
    "- toc:true\n",
    "- branch: master\n",
    "- badges: true\n",
    "- comments: true\n",
    "- categories: [jupyter]"
   ]
  },
  {
   "cell_type": "code",
   "execution_count": 15,
   "metadata": {},
   "outputs": [
    {
     "name": "stdout",
     "output_type": "stream",
     "text": [
      "Number 1: Number 2: \n",
      "Sum is equal to 10\n"
     ]
    }
   ],
   "source": [
    "import java.util.Scanner;\n",
    "\n",
    "public class BinaryAddition {\n",
    "    public static void main(String[] args) {\n",
    "        Scanner input = new Scanner(System.in);\n",
    "        \n",
    "        System.out.print(\"Number 1: \");\n",
    "        int num1 = input.nextInt();\n",
    "        String bin1 = Integer.toBinaryString(num1);\n",
    "\n",
    "        System.out.print(\"Number 2: \");\n",
    "        int num2 = input.nextInt();\n",
    "        String bin2 = Integer.toBinaryString(num2);\n",
    "        \n",
    "        String sum = binAddition(bin1, bin2);\n",
    "        System.out.println(\"\\n\" + \"Sum is equal to \" + sum);\n",
    "    }\n",
    "    \n",
    "    public static String binAddition(String binary1, String binary2) {\n",
    "        StringBuilder sum = new StringBuilder();\n",
    "        int carry = 0;\n",
    "        \n",
    "        while (binary1.length() < binary2.length()) {\n",
    "            binary1 = \"0\" + binary1;\n",
    "        }\n",
    "        while (binary2.length() < binary1.length()) {\n",
    "            binary2 = \"0\" + binary2;\n",
    "        }\n",
    "        \n",
    "        for (int i = binary1.length() - 1; i >= 0; i--) {\n",
    "            int add = Character.getNumericValue(binary1.charAt(i)) + Character.getNumericValue(binary2.charAt(i)) + carry;\n",
    "            \n",
    "            if (add == 0 || add == 1) {\n",
    "                sum.append(add);\n",
    "                carry = 0;\n",
    "            } else if (add == 2) {\n",
    "                sum.append(\"0\");\n",
    "                carry = 1;\n",
    "            } else if (add == 3) {\n",
    "                sum.append(\"1\");\n",
    "                carry = 1;\n",
    "            }\n",
    "        }\n",
    "        if (carry == 1) {\n",
    "            sum.append(\"1\");\n",
    "        }\n",
    "\n",
    "        return sum.reverse().toString();\n",
    "    }\n",
    "}\n",
    "\n",
    "BinaryAddition.main(null);"
   ]
  }
 ],
 "metadata": {
  "kernelspec": {
   "display_name": "Java",
   "language": "java",
   "name": "java"
  },
  "language_info": {
   "codemirror_mode": "java",
   "file_extension": ".jshell",
   "mimetype": "text/x-java-source",
   "name": "java",
   "pygments_lexer": "java",
   "version": "17.0.5+8-Ubuntu-2ubuntu120.04"
  },
  "orig_nbformat": 4
 },
 "nbformat": 4,
 "nbformat_minor": 2
}
