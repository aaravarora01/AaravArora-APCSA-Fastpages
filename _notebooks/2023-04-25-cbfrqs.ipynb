{
 "cells": [
  {
   "attachments": {},
   "cell_type": "markdown",
   "metadata": {},
   "source": [
    "# CB FRQs #\n",
    "> \"CollegeBoard FRQ Solutions\"\n",
    "\n",
    "- toc:true\n",
    "- branch: master\n",
    "- badges: true\n",
    "- comments: true\n",
    "- categories: [jupyter, CollegeBoard Learning]"
   ]
  },
  {
   "attachments": {},
   "cell_type": "markdown",
   "metadata": {},
   "source": [
    "### Methods and Control Structures ###"
   ]
  },
  {
   "cell_type": "code",
   "execution_count": null,
   "metadata": {
    "vscode": {
     "languageId": "java"
    }
   },
   "outputs": [],
   "source": [
    "// Part A\n",
    "public static int getCheck(int num) {\n",
    "    int digits = getNumberOfDigits(num);\n",
    "    int sum = 0;\n",
    "    for (i = 0; i < digits; i++) {\n",
    "        int currentDig = getDigit(num, i);\n",
    "        int currentDig = currentDig * (7 - i);\n",
    "        sum += currentDig;\n",
    "    }\n",
    "    int digitsInSum = getNumberOfDigits(sum);\n",
    "    return(getDigit(sum, digitsInSum));\n",
    "}\n",
    "\n",
    "// Part B\n",
    "public static boolean isValid(int numWithCheckDigit) {\n",
    "    int check = numWithCheckDigit % 10;\n",
    "    int numToCheck = numWithCheckDigit / 10;\n",
    "    numWithCheckDigit = numWithCheckDigit - check;\n",
    "    numWithCheckDigit = numWithCheckDigit / 10;\n",
    "    if (check == getCheck(numToCheck)) {\n",
    "        return true;\n",
    "    }\n",
    "    else {\n",
    "        return false;\n",
    "    }\n",
    "}"
   ]
  },
  {
   "attachments": {},
   "cell_type": "markdown",
   "metadata": {},
   "source": [
    "### Classes ###"
   ]
  },
  {
   "cell_type": "code",
   "execution_count": null,
   "metadata": {
    "vscode": {
     "languageId": "java"
    }
   },
   "outputs": [],
   "source": [
    "public class AdditionPattern {\n",
    "    private int currentNum; \n",
    "    private int add;\n",
    "    private int startNum;\n",
    "    public AdditionPattern(int c, int a) {\n",
    "        currentNum = c;\n",
    "        startNum = c;\n",
    "        add = a;\n",
    "    }\n",
    "\n",
    "    public static void next() {\n",
    "        currentNum += add;\n",
    "    }\n",
    "\n",
    "    public int currentNumber() {\n",
    "        return currentNum;\n",
    "    }\n",
    "\n",
    "    public int prev() {\n",
    "        if (currentNum != startNum) {\n",
    "            currentNum -= add;\n",
    "        }\n",
    "    }\n",
    "    \n",
    "}"
   ]
  },
  {
   "attachments": {},
   "cell_type": "markdown",
   "metadata": {},
   "source": [
    "### Arrays/ArrayLists ###"
   ]
  },
  {
   "cell_type": "code",
   "execution_count": null,
   "metadata": {
    "vscode": {
     "languageId": "java"
    }
   },
   "outputs": [],
   "source": [
    "// Part A\n",
    "public void addMembers(String[] names, int gradYear) {\n",
    "    for (int i = 0; i < names.length; i++) {\n",
    "        MemberInfo newMember = new MemberInfo(names[i], gradYear, true);\n",
    "        memberList.add(newMember);\n",
    "    }\n",
    "\n",
    "}\n",
    "\n",
    "// Part B\n",
    "public ArrayList<MemberInfo> removeMembers(int year) {\n",
    "    ArrayList<MemberInfo> gradList = new ArrayList<MemberInfo>();\n",
    "    for (int k = 0; k < memberList.size(); k++) {\n",
    "        if (memberList.get(k).getGradYear() <= year) {\n",
    "            memberList.remove(k);\n",
    "            if (memberList.get(k).inGoodStanding()) {\n",
    "                gradList.add(k);\n",
    "            }\n",
    "        }\n",
    "    }\n",
    "    return gradList;\n",
    "}"
   ]
  },
  {
   "attachments": {},
   "cell_type": "markdown",
   "metadata": {},
   "source": [
    "### 2D Arrays ###"
   ]
  },
  {
   "cell_type": "code",
   "execution_count": null,
   "metadata": {
    "vscode": {
     "languageId": "java"
    }
   },
   "outputs": [],
   "source": [
    "// Part A\n",
    "public static boolean isNonZeroRow(int[][] array2D, int r) {\n",
    "    private int count;\n",
    "    for (int col = 0; col < array2D[0].length; col++) {\n",
    "        if (array2D[r][col] == 0) {\n",
    "            return false;\n",
    "        }\n",
    "        else {\n",
    "            count++;\n",
    "        }\n",
    "    }\n",
    "    if (count == r[0].length) {\n",
    "        return true;\n",
    "    }\n",
    "}\n",
    "\n",
    "// Part B\n",
    "public static int[][] resize(int[][] array2D) {\n",
    "    int newArrRow = 0;\n",
    "    int[][] new2D = new int [numNonZeroRows(array2D)][array2D[0].length];\n",
    "    for (int row = 0; row < array2D.length; row++) {\n",
    "        if (isNonZeroRow(array2D, r)) {\n",
    "            for (int c = 0; c < array2D.length) {\n",
    "                new2D[newArrRow][c] = array2D[row][c];\n",
    "            }\n",
    "            newArrRow++;\n",
    "        }\n",
    "    }\n",
    "    return new2D;\n",
    "}"
   ]
  }
 ],
 "metadata": {
  "kernelspec": {
   "display_name": "Java",
   "language": "java",
   "name": "java"
  },
  "language_info": {
   "codemirror_mode": "java",
   "file_extension": ".jshell",
   "mimetype": "text/x-java-source",
   "name": "Java",
   "pygments_lexer": "java",
   "version": "17.0.5+8-Ubuntu-2ubuntu120.04"
  },
  "orig_nbformat": 4
 },
 "nbformat": 4,
 "nbformat_minor": 2
}
