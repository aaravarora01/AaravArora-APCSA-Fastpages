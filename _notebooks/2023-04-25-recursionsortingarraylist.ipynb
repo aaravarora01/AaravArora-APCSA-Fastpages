{
 "cells": [
  {
   "attachments": {},
   "cell_type": "markdown",
   "metadata": {},
   "source": [
    "# Recursion, Sorting, ArrayList Hacks #\n",
    "> \"Recursion, Sorting, ArrayList Hacks\"\n",
    "\n",
    "- toc:true\n",
    "- branch: master\n",
    "- badges: true\n",
    "- comments: true\n",
    "- categories: [jupyter, CollegeBoard Learning]"
   ]
  },
  {
   "attachments": {},
   "cell_type": "markdown",
   "metadata": {},
   "source": [
    "### Recursion ###"
   ]
  },
  {
   "cell_type": "code",
   "execution_count": 1,
   "metadata": {
    "vscode": {
     "languageId": "java"
    }
   },
   "outputs": [
    {
     "name": "stdout",
     "output_type": "stream",
     "text": [
      "**********\n",
      "*********\n",
      "********\n",
      "*******\n",
      "******\n",
      "*****\n",
      "****\n",
      "***\n",
      "**\n",
      "*\n"
     ]
    }
   ],
   "source": [
    "public void drawLine(int n) {\n",
    "    if (n > 0) {\n",
    "        for (int i = 1; i <= n; i++) {\n",
    "            System.out.print(\"*\");\n",
    "        }\n",
    "        System.out.println();\n",
    "        drawLine(n - 1);\n",
    "    } \n",
    "}\n",
    "drawLine(10);"
   ]
  },
  {
   "attachments": {},
   "cell_type": "markdown",
   "metadata": {},
   "source": [
    "### Sorting Hacks ###"
   ]
  },
  {
   "cell_type": "code",
   "execution_count": 21,
   "metadata": {
    "vscode": {
     "languageId": "java"
    }
   },
   "outputs": [
    {
     "name": "stdout",
     "output_type": "stream",
     "text": [
      "2, 100\n",
      "3, 12\n",
      "1, 5\n",
      "4, 2\n"
     ]
    }
   ],
   "source": [
    "public class Sorting {\n",
    "    public static void Sort(ArrayList<int[]> arr) {\n",
    "        int arrSize = arr.size();\n",
    "        for (int i = 1; i < arrSize; i++) {\n",
    "            int[] num = arr.get(i);\n",
    "            int j = i - 1;\n",
    "    \n",
    "            while (j >= 0 && arr.get(j)[1] < num[1]) {\n",
    "                arr.set(j + 1, arr.get(j));\n",
    "                j--;\n",
    "            }\n",
    "            arr.set(j + 1, num);\n",
    "        }\n",
    "    }\n",
    "    public static void main(String[] args) {\n",
    "        ArrayList<int[]> arr = new ArrayList<>();\n",
    "        // Country #, Size\n",
    "        arr.add(new int[]{1, 5});\n",
    "        arr.add(new int[]{2, 100});\n",
    "        arr.add(new int[]{3, 12});\n",
    "        arr.add(new int[]{4, 2});\n",
    "\n",
    "        Sort(arr);\n",
    "        \n",
    "        for (int i = 0; i < arr.size(); i++) {\n",
    "            System.out.println(arr.get(i)[0] + \", \" + arr.get(i)[1]);\n",
    "        }\n",
    "    }\n",
    "}\n",
    "Sorting.main(null);\n"
   ]
  },
  {
   "attachments": {},
   "cell_type": "markdown",
   "metadata": {},
   "source": [
    "### Array List ###"
   ]
  },
  {
   "cell_type": "code",
   "execution_count": 39,
   "metadata": {
    "vscode": {
     "languageId": "java"
    }
   },
   "outputs": [
    {
     "name": "stdout",
     "output_type": "stream",
     "text": [
      "[Ball, Cat]\n",
      "In Reverse Order\n"
     ]
    }
   ],
   "source": [
    "// Remove every other element from an arraylist\n",
    "\n",
    "import java.util.*;\n",
    "\n",
    "ArrayList<String> arr = new ArrayList<String>();\n",
    "arr.add(\"Apple\");\n",
    "arr.add(\"Ball\");\n",
    "arr.add(\"Cat\");\n",
    "arr.add(\"Dog\");\n",
    "\n",
    "for (int i = 0; i < arr.size(); i = i + 2) {\n",
    "    arr.remove(arr.get(i));\n",
    "}\n",
    "System.out.println(arr);\n",
    "\n",
    "\n",
    "// Test if two arraylists contain the same elements in reverse order\n",
    "\n",
    "ArrayList<String> normalArr = new ArrayList<String>();\n",
    "ArrayList<String> reverseArr = new ArrayList<String>();\n",
    "normalArr.add(\"Apple\");\n",
    "reverseArr.add(\"Ball\");\n",
    "normalArr.add(\"Ball\");\n",
    "reverseArr.add(\"Apple\");\n",
    "\n",
    "int indexNum = normalArr.size() - 1; \n",
    "\n",
    "for (int i = 0; i < normalArr.size(); i++) {\n",
    "    if (normalArr.get(i) != reverseArr.get(indexNum - i)) {\n",
    "        System.out.println(\"Not in Reverse Order\");\n",
    "    }\n",
    "}\n",
    "System.out.println(\"In Reverse Order\");"
   ]
  }
 ],
 "metadata": {
  "kernelspec": {
   "display_name": "Java",
   "language": "java",
   "name": "java"
  },
  "language_info": {
   "codemirror_mode": "java",
   "file_extension": ".jshell",
   "mimetype": "text/x-java-source",
   "name": "Java",
   "pygments_lexer": "java",
   "version": "17.0.5+8-Ubuntu-2ubuntu120.04"
  },
  "orig_nbformat": 4
 },
 "nbformat": 4,
 "nbformat_minor": 2
}
