{
 "cells": [
  {
   "cell_type": "markdown",
   "metadata": {},
   "source": [
    "# \"Java Primitives\"\n",
    "> \"Learning Java Basics + Creating a PPG Calculator\"\n",
    "\n",
    "- toc:true\n",
    "- branch: master\n",
    "- badges: true\n",
    "- comments: true\n",
    "- categories: [jupyter, CollegeBoard Learning]"
   ]
  },
  {
   "cell_type": "markdown",
   "metadata": {},
   "source": [
    "Class w/ Integer"
   ]
  },
  {
   "cell_type": "code",
   "execution_count": 30,
   "metadata": {
    "vscode": {
     "languageId": "java"
    }
   },
   "outputs": [
    {
     "name": "stdout",
     "output_type": "stream",
     "text": [
      "Integer is 5\n"
     ]
    }
   ],
   "source": [
    "/// Used for numbers\n",
    "public class TestInt{\n",
    "    static int data = 5;\n",
    "    \n",
    "    public static void main(String args[]){\n",
    "       TestInt obj = new TestInt();\n",
    "       \n",
    "       System.out.println(\"Integer is \"+TestInt.data);\n",
    "    }\n",
    " }\n",
    " TestInt.main(null);"
   ]
  },
  {
   "cell_type": "markdown",
   "metadata": {},
   "source": [
    "Class w/ Double"
   ]
  },
  {
   "cell_type": "code",
   "execution_count": 32,
   "metadata": {
    "vscode": {
     "languageId": "java"
    }
   },
   "outputs": [
    {
     "name": "stdout",
     "output_type": "stream",
     "text": [
      "Integer is 5.0\n"
     ]
    }
   ],
   "source": [
    "/// Used for values that have decimals\n",
    "public class TestDouble{\n",
    "    static double data = 5.0;\n",
    "    \n",
    "    public static void main(String args[]){\n",
    "       TestDouble obj = new TestDouble();\n",
    "       \n",
    "       System.out.println(\"Integer is \"+TestDouble.data);\n",
    "    }\n",
    " }\n",
    " TestDouble.main(null);"
   ]
  },
  {
   "cell_type": "markdown",
   "metadata": {},
   "source": [
    "Class w/ Boolean"
   ]
  },
  {
   "cell_type": "code",
   "execution_count": 35,
   "metadata": {
    "vscode": {
     "languageId": "java"
    }
   },
   "outputs": [
    {
     "name": "stdout",
     "output_type": "stream",
     "text": [
      "true\n",
      "false\n"
     ]
    }
   ],
   "source": [
    "/// Used to verify if something is true or false, usually to see if something exists\n",
    "public class TestBoolean\n",
    "{\n",
    "    public static void main(String[] args)\n",
    "    {\n",
    "        Boolean var1 = new Boolean(\"True\");\n",
    "        Boolean var2 = new Boolean(\"False\");\n",
    "          \n",
    "        boolean print1 = var1.booleanValue();\n",
    "        boolean print2 = var2.booleanValue();\n",
    "          \n",
    "        System.out.println(print1);\n",
    "        System.out.println(print2);          \n",
    "    }\n",
    "}\n",
    "TestBoolean.main(null);"
   ]
  },
  {
   "cell_type": "markdown",
   "metadata": {},
   "source": [
    "Class w/ String"
   ]
  },
  {
   "cell_type": "code",
   "execution_count": 38,
   "metadata": {
    "vscode": {
     "languageId": "java"
    }
   },
   "outputs": [
    {
     "name": "stdout",
     "output_type": "stream",
     "text": [
      "Enter a string value:\n",
      "I love AP CSA\n"
     ]
    }
   ],
   "source": [
    "/// Used for any type of characters, mainly phrases or words\n",
    "public class TestString {\n",
    "    public static void main(String args[])\n",
    "    {\n",
    "        Scanner stringval = new Scanner(System.in);\n",
    "        System.out.println(\"Enter a string value:\");\n",
    "        \n",
    "        String str = stringval.nextLine();\n",
    "        System.out.println(str);\n",
    "    }\n",
    "}\n",
    "TestString.main(null);"
   ]
  },
  {
   "cell_type": "markdown",
   "metadata": {},
   "source": [
    "Arithmetic Program Code"
   ]
  },
  {
   "cell_type": "code",
   "execution_count": 40,
   "metadata": {
    "vscode": {
     "languageId": "java"
    }
   },
   "outputs": [
    {
     "name": "stdout",
     "output_type": "stream",
     "text": [
      "The two numbers added up is equal to 10.6\n"
     ]
    }
   ],
   "source": [
    "public class Adding{\n",
    "    public static void main(String[] args){\n",
    "        double val1 = 7.5, val2 = 3.1, sum;\n",
    "        sum = val1 + val2;\n",
    "        \n",
    "        System.out.println(\"The two numbers added up is equal to \" + sum);\n",
    "    }\n",
    "}\n",
    "Adding.main(null);\n",
    "\n",
    "/// We use integers for non-decimal numbers and double for any number, but mainly when we want to use decimals as well."
   ]
  },
  {
   "cell_type": "markdown",
   "metadata": {},
   "source": [
    "Arithmetic Expressions w/ Casting"
   ]
  },
  {
   "cell_type": "code",
   "execution_count": 54,
   "metadata": {
    "vscode": {
     "languageId": "java"
    }
   },
   "outputs": [
    {
     "name": "stdout",
     "output_type": "stream",
     "text": [
      "The total of the two numbers is equal to 9\n"
     ]
    }
   ],
   "source": [
    "String start = \"The total of the two numbers is equal to \";\n",
    "int val1 = 3;\n",
    "int val2 = 6;\n",
    "int total= (val1 + val2);\n",
    "String finalexp = start + total;\n",
    "System.out.println(finalexp);"
   ]
  },
  {
   "cell_type": "markdown",
   "metadata": {},
   "source": [
    "Using compound assignment operator"
   ]
  },
  {
   "cell_type": "code",
   "execution_count": 62,
   "metadata": {
    "vscode": {
     "languageId": "java"
    }
   },
   "outputs": [
    {
     "name": "stdout",
     "output_type": "stream",
     "text": [
      "450\n",
      "250\n",
      "4\n"
     ]
    }
   ],
   "source": [
    "int val = 250;\n",
    "val += 200; /// Adds 200 to the integer val\n",
    "System.out.println(val);\n",
    "\n",
    "val -= 200; /// Substracts 200 from the integer val\n",
    "System.out.println(val);\n",
    "\n",
    "val %= 6; /// Performs 250 mod 6\n",
    "System.out.println(val);"
   ]
  },
  {
   "cell_type": "markdown",
   "metadata": {},
   "source": [
    "PPG Calculator"
   ]
  },
  {
   "cell_type": "code",
   "execution_count": 10,
   "metadata": {
    "vscode": {
     "languageId": "java"
    }
   },
   "outputs": [
    {
     "name": "stdout",
     "output_type": "stream",
     "text": [
      "Enter points scored in game 1: \n",
      "Enter points scored in game 2: \n",
      "Enter points scored in game 3: \n",
      "Average PPG is equal to 31.0\n",
      "Total scored over the games is equal to 93\n"
     ]
    }
   ],
   "source": [
    "import java.util.Scanner; /// import a class to allow us to take user inputs\n",
    "public class CalculatePPG{\n",
    "    public static void main (String[] args){\n",
    "    \n",
    "    int game1, game2, game3, sum; /// define all variables as integers\n",
    "    double average;  /// define average value as a decimal value\n",
    "    \n",
    "    Scanner sc = new Scanner(System.in); /// take user input for points scored in all games\n",
    "    System.out.println(\"Enter points scored in game 1: \");\n",
    "    game1 = sc.nextInt();\n",
    "    sum = game1;\n",
    "    System.out.println(\"Enter points scored in game 2: \");\n",
    "    game2 = sc.nextInt();\n",
    "    sum += game2;\n",
    "    System.out.println(\"Enter points scored in game 3: \");\n",
    "    game3 = sc.nextInt();\n",
    "    sum += game3;\n",
    "    \n",
    "    average = sum / 3; /// calculate average ppg\n",
    "    \n",
    "    System.out.println(\"Average PPG is equal to \" + average); /// print average ppg\n",
    "    System.out.println(\"Total scored over the games is equal to \" + sum); /// print sum\n",
    "    }\n",
    "}\n",
    "CalculatePPG.main(null);\n",
    "\n",
    "/// Let's test our program with an average from 3 of Steph Curry's games: 34, 16, 43"
   ]
  }
 ],
 "metadata": {
  "kernelspec": {
   "display_name": "Java",
   "language": "java",
   "name": "java"
  },
  "language_info": {
   "codemirror_mode": "java",
   "file_extension": ".jshell",
   "mimetype": "text/x-java-source",
   "name": "Java",
   "pygments_lexer": "java",
   "version": "11.0.16+8-post-Ubuntu-0ubuntu120.04"
  },
  "orig_nbformat": 4
 },
 "nbformat": 4,
 "nbformat_minor": 2
}
