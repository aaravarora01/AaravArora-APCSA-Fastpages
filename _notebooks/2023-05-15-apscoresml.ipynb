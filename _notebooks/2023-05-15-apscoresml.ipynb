{
 "cells": [
  {
   "attachments": {},
   "cell_type": "markdown",
   "metadata": {},
   "source": [
    "# Creating and Training a Simple Machine Learning Model #\n",
    "> \"AP Scores Decision Tree for Classification\"\n",
    "\n",
    "- toc:true\n",
    "- branch: master\n",
    "- badges: true\n",
    "- comments: true\n",
    "- categories: [jupyter]"
   ]
  },
  {
   "attachments": {},
   "cell_type": "markdown",
   "metadata": {},
   "source": [
    "# Training and Testing ML Model #"
   ]
  },
  {
   "attachments": {},
   "cell_type": "markdown",
   "metadata": {},
   "source": [
    "Before starting anything else, we need to import libraries that we will use for training our model. The pandas library and sklearn libraries are important and are used for the actual training of the model. The matplot library is used for visualizing our model and determining how successful it is. "
   ]
  },
  {
   "cell_type": "code",
   "execution_count": 2,
   "metadata": {},
   "outputs": [],
   "source": [
    "import pandas as pd\n",
    "from sklearn.tree import DecisionTreeClassifier\n",
    "from sklearn.model_selection import train_test_split\n",
    "from sklearn.metrics import accuracy_score\n",
    "from sklearn import tree\n",
    "import matplotlib.pyplot as plt"
   ]
  },
  {
   "attachments": {},
   "cell_type": "markdown",
   "metadata": {},
   "source": [
    "We need to import the file that contains our training data. In this case, it is in the same directory as the Jupyter notebook and is called apscores.csv"
   ]
  },
  {
   "cell_type": "code",
   "execution_count": 3,
   "metadata": {},
   "outputs": [],
   "source": [
    "# Load the CSV file using pandas\n",
    "data = pd.read_csv('apscores.csv')"
   ]
  },
  {
   "attachments": {},
   "cell_type": "markdown",
   "metadata": {},
   "source": [
    "The csv file is formatted as such: \n",
    "\n",
    "| UserID | FRQ1  | FRQ2  | FRQ3  | APScore |\n",
    "|--------|-------|-------|-------|---------|\n",
    "| 01     | Score | Score | Score | Score   |\n",
    "| 02     | Score | Score | Score | Score   |\n",
    "| 03     | Score | Score | Score | Score   |\n",
    "\n",
    "Thus, below we are setting the FRQ scores on the X and the AP Score on the y since we want to predict what AP Score someone will get based on their FRQ score. "
   ]
  },
  {
   "cell_type": "code",
   "execution_count": 4,
   "metadata": {},
   "outputs": [],
   "source": [
    "# Select the attributes and the ap scorees to classify\n",
    "X = data.iloc[:, 1:4]  # 2nd to 4th columns are the scores on different FRQs\n",
    "y = data.iloc[:, 4]    # 5th column as ap scores to classify"
   ]
  },
  {
   "attachments": {},
   "cell_type": "markdown",
   "metadata": {},
   "source": [
    "This splits up the data into training and testing data. Setting the test size equal to 0.2 means that the data is split into both training data and testing data. 80% of the data is used for training the model and the remaining 20% is used to test the accuracy of the model. The random_state variable is randomly chosen and doesn't matter what the number is."
   ]
  },
  {
   "cell_type": "code",
   "execution_count": 5,
   "metadata": {},
   "outputs": [],
   "source": [
    "# Split the data into training and testing sets\n",
    "X_train, X_test, y_train, y_test = train_test_split(X, y, test_size=0.2, random_state=42)"
   ]
  },
  {
   "attachments": {},
   "cell_type": "markdown",
   "metadata": {},
   "source": [
    "Now, we are using the DecisionTreeClassifier with sklearn and training the classifier with the training data that was assigned above. "
   ]
  },
  {
   "cell_type": "code",
   "execution_count": 6,
   "metadata": {},
   "outputs": [
    {
     "data": {
      "text/plain": [
       "DecisionTreeClassifier()"
      ]
     },
     "execution_count": 6,
     "metadata": {},
     "output_type": "execute_result"
    }
   ],
   "source": [
    "# Create a decision tree classifier\n",
    "clf = DecisionTreeClassifier()\n",
    "# Train the classifier\n",
    "clf.fit(X_train, y_train)"
   ]
  },
  {
   "attachments": {},
   "cell_type": "markdown",
   "metadata": {},
   "source": [
    "After the model has been trained, we can stop there and have a functioning model. However, it is important to test the accuracy of the model. We use the data from the remaining 20% and classify it with the decision tree created above. The accuracy is 95% so we don't have to make many adjustments, if any. "
   ]
  },
  {
   "cell_type": "code",
   "execution_count": 7,
   "metadata": {},
   "outputs": [
    {
     "name": "stdout",
     "output_type": "stream",
     "text": [
      "Accuracy: 0.95\n"
     ]
    }
   ],
   "source": [
    "# Make predictions on the test set for ap scores\n",
    "y_pred = clf.predict(X_test)\n",
    "# Calculate the accuracy of the model\n",
    "accuracy = accuracy_score(y_test, y_pred)\n",
    "print(\"Accuracy:\", accuracy)"
   ]
  },
  {
   "attachments": {},
   "cell_type": "markdown",
   "metadata": {},
   "source": [
    "Now, we are creating a function to predict the score using the created model. The function returns the predicted score from the function. "
   ]
  },
  {
   "cell_type": "code",
   "execution_count": 8,
   "metadata": {},
   "outputs": [],
   "source": [
    "# Function to predict the score/class based on input values\n",
    "def predict_score(attribute1, attribute2, attribute3):\n",
    "    # Create a DataFrame with the input values\n",
    "    input_data = pd.DataFrame([[attribute1, attribute2, attribute3]])\n",
    "\n",
    "    # Use the trained classifier to make predictions on the input data\n",
    "    prediction = clf.predict(input_data)\n",
    "\n",
    "    return prediction[0]"
   ]
  },
  {
   "attachments": {},
   "cell_type": "markdown",
   "metadata": {},
   "source": [
    "Finally, we are using the predict_score function to test what score someone will get based on their 3 FRQ scores. This function was incorporated into our website later. "
   ]
  },
  {
   "cell_type": "code",
   "execution_count": 9,
   "metadata": {},
   "outputs": [
    {
     "name": "stdout",
     "output_type": "stream",
     "text": [
      "Predicted Score: 1\n"
     ]
    },
    {
     "name": "stdout",
     "output_type": "stream",
     "text": [
      ""
     ]
    }
   ],
   "source": [
    "# Test case \n",
    "attribute1 = 1\n",
    "attribute2 = 1\n",
    "attribute3 = 1\n",
    "\n",
    "predicted_score = predict_score(attribute1, attribute2, attribute3)\n",
    "print(\"Predicted Score:\", predicted_score)"
   ]
  },
  {
   "cell_type": "code",
   "execution_count": 10,
   "metadata": {},
   "outputs": [
    {
     "name": "stdout",
     "output_type": "stream",
     "text": [
      "Predicted Score: 5\n"
     ]
    },
    {
     "name": "stdout",
     "output_type": "stream",
     "text": [
      ""
     ]
    }
   ],
   "source": [
    "# Test case \n",
    "attribute1 = 9\n",
    "attribute2 = 7\n",
    "attribute3 = 9\n",
    "\n",
    "predicted_score = predict_score(attribute1, attribute2, attribute3)\n",
    "print(\"Predicted Score:\", predicted_score)"
   ]
  },
  {
   "attachments": {},
   "cell_type": "markdown",
   "metadata": {},
   "source": [
    "Finally, we are plotting the model on an accuracy plot to see whether or not specific test cases were accurately classified. We can see which test cases were inaccurate. In this situation, our model predicted that someone would get an AP score of 5, when they actually got an AP score of 5 in the training data given. "
   ]
  },
  {
   "cell_type": "code",
   "execution_count": 11,
   "metadata": {},
   "outputs": [
    {
     "data": {
      "image/png": "[encoded data removed]",
      "text/plain": [
       "<Figure size 432x288 with 1 Axes>"
      ]
     },
     "metadata": {
      "needs_background": "light"
     },
     "output_type": "display_data"
    }
   ],
   "source": [
    "# Plot the accuracy\n",
    "plt.plot(range(len(y_test)), y_test, 'o', label='Actual')\n",
    "plt.plot(range(len(y_pred)), y_pred, 'x', label='Predicted')\n",
    "plt.xlabel('Sample Index')\n",
    "plt.ylabel('Class')\n",
    "plt.title('Actual vs. Predicted')\n",
    "plt.legend()\n",
    "plt.show()"
   ]
  }
 ],
 "metadata": {
  "kernelspec": {
   "display_name": "base",
   "language": "python",
   "name": "python3"
  },
  "language_info": {
   "codemirror_mode": {
    "name": "ipython",
    "version": 3
   },
   "file_extension": ".py",
   "mimetype": "text/x-python",
   "name": "python",
   "nbconvert_exporter": "python",
   "pygments_lexer": "ipython3",
   "version": "3.9.12"
  },
  "orig_nbformat": 4
 },
 "nbformat": 4,
 "nbformat_minor": 2
}
