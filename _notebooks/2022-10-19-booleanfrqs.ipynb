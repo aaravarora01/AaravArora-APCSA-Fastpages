{
 "cells": [
  {
   "cell_type": "markdown",
   "metadata": {},
   "source": [
    "# \"Boolean/If Statements FRQ\"\n",
    "> \"Boolean/If FRQs Solution\"\n",
    "\n",
    "- toc:true\n",
    "- branch: master\n",
    "- badges: true\n",
    "- comments: true\n",
    "- categories: [jupyter]"
   ]
  },
  {
   "cell_type": "markdown",
   "metadata": {},
   "source": [
    "### 2009 FRQ 3b ###"
   ]
  },
  {
   "cell_type": "code",
   "execution_count": null,
   "metadata": {
    "vscode": {
     "languageId": "java"
    }
   },
   "outputs": [],
   "source": [
    "public int getChargeStartTime(int chargeTime) {\n",
    "    int startTime = 0;\n",
    "    for (int i = 1; i < 24; i++) {\n",
    "        if (this.getChargingCost(i, chargeTime)\n",
    "            this.getChargingCost(startTime, chargeTime)) {\n",
    "            startTime = i;\n",
    "        }\n",
    "    }\n",
    "    return startTime;\n",
    "} "
   ]
  },
  {
   "cell_type": "markdown",
   "metadata": {},
   "source": [
    "### 2017 FRQ 1b ###"
   ]
  },
  {
   "cell_type": "code",
   "execution_count": null,
   "metadata": {
    "vscode": {
     "languageId": "java"
    }
   },
   "outputs": [],
   "source": [
    "int i = 0;\n",
    "\n",
    "public boolean isStrictlyIncreasing () {\n",
    "    for (i < digitList.size) {\n",
    "        if (digitList.get(i).intValue() >= digitList.get(i-1).intValue)\n",
    "            return false;\n",
    "        else {\n",
    "            return true;\n",
    "        }\n",
    "    }\n",
    "}"
   ]
  },
  {
   "cell_type": "markdown",
   "metadata": {},
   "source": [
    "### 2019 FRQ 3b ###"
   ]
  },
  {
   "cell_type": "code",
   "execution_count": null,
   "metadata": {
    "vscode": {
     "languageId": "java"
    }
   },
   "outputs": [],
   "source": [
    "public boolean isBalanced(ArrayList<String> delimiters) {\n",
    "    int tally = 0;\n",
    "    for(int i = 0; i ,delimiters.size(); i++)\n",
    "    {\n",
    "        if(delimiters.get(i).equals(openDel)) {\n",
    "            tally ++;\n",
    "        }\n",
    "        else {\n",
    "            tally--;\n",
    "        }\n",
    "\n",
    "        if(tally < 0) {\n",
    "            return false;\n",
    "        }\n",
    "        }\n",
    "    }\n",
    "    return tally == 0;\n",
    "}"
   ]
  }
 ],
 "metadata": {
  "language_info": {
   "name": "python"
  },
  "orig_nbformat": 4
 },
 "nbformat": 4,
 "nbformat_minor": 2
}
